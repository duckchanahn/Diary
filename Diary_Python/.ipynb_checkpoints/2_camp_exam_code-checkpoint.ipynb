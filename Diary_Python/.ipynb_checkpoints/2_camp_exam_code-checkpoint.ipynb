{
 "cells": [
  {
   "cell_type": "code",
   "execution_count": null,
   "metadata": {
    "id": "aHIo-IAJEG_j"
   },
   "outputs": [],
   "source": []
  },
  {
   "cell_type": "markdown",
   "metadata": {
    "id": "2U4lUKNm5Y0b"
   },
   "source": [
    "# 0. 코랩환경 구성하기\n",
    "- Data 연동하기"
   ]
  },
  {
   "cell_type": "code",
   "execution_count": 1,
   "metadata": {
    "executionInfo": {
     "elapsed": 38783,
     "status": "ok",
     "timestamp": 1602911959969,
     "user": {
      "displayName": "‍이준걸[ 대학원석사과정재학 / 산업경영공학과 ]",
      "photoUrl": "",
      "userId": "01469216314396635001"
     },
     "user_tz": -540
    },
    "id": "7YzPuNBMxRwH"
   },
   "outputs": [],
   "source": [
    "import os\n",
    "from pydrive.auth import GoogleAuth\n",
    "from pydrive.drive import GoogleDrive\n",
    "from google.colab import auth\n",
    "from oauth2client.client import GoogleCredentials\n",
    "auth.authenticate_user()\n",
    "gauth = GoogleAuth()\n",
    "gauth.credentials = GoogleCredentials.get_application_default()\n",
    "drive = GoogleDrive(gauth)"
   ]
  },
  {
   "cell_type": "markdown",
   "metadata": {
    "id": "XY_21dia6q9m"
   },
   "source": [
    "# A. Machine Learning"
   ]
  },
  {
   "cell_type": "code",
   "execution_count": 3,
   "metadata": {
    "executionInfo": {
     "elapsed": 6430,
     "status": "ok",
     "timestamp": 1602912075105,
     "user": {
      "displayName": "‍이준걸[ 대학원석사과정재학 / 산업경영공학과 ]",
      "photoUrl": "",
      "userId": "01469216314396635001"
     },
     "user_tz": -540
    },
    "id": "Apee1oAz4lhU"
   },
   "outputs": [],
   "source": [
    "# train url : https://drive.google.com/file/d/1VjtFvAkIwCGNmUsK2hquayN0GjuUP1vZ/view?usp=sharing\n",
    "# test url : https://drive.google.com/file/d/18rNhxsauakGajIE1mjedwnQvWlR4ibXF/view?usp=sharing\n",
    "download = drive.CreateFile({\"id\": \"1VjtFvAkIwCGNmUsK2hquayN0GjuUP1vZ\"}) #이부분 수정하면 됩니당\n",
    "download.GetContentFile(\"train.pkl\")\n",
    "download = drive.CreateFile({\"id\": \"18rNhxsauakGajIE1mjedwnQvWlR4ibXF\"}) #이부분 수정하면 됩니당\n",
    "download.GetContentFile(\"test.pkl\")"
   ]
  },
  {
   "cell_type": "code",
   "execution_count": 4,
   "metadata": {
    "executionInfo": {
     "elapsed": 5368,
     "status": "ok",
     "timestamp": 1602912075107,
     "user": {
      "displayName": "‍이준걸[ 대학원석사과정재학 / 산업경영공학과 ]",
      "photoUrl": "",
      "userId": "01469216314396635001"
     },
     "user_tz": -540
    },
    "id": "ydU3TAfN5_p_"
   },
   "outputs": [],
   "source": [
    "import pandas as pd\n",
    "import numpy as np\n",
    "import matplotlib.pyplot as plt"
   ]
  },
  {
   "cell_type": "markdown",
   "metadata": {
    "id": "Ac893tug6HWQ"
   },
   "source": [
    "# 1. Data Loading\n",
    "- Train data를 로딩합니다.\n",
    "- Test data를 로딩합니다.\n",
    "- shape을 확인합니다."
   ]
  },
  {
   "cell_type": "code",
   "execution_count": 5,
   "metadata": {
    "colab": {
     "base_uri": "https://localhost:8080/",
     "height": 35
    },
    "executionInfo": {
     "elapsed": 1032,
     "status": "ok",
     "timestamp": 1602912096437,
     "user": {
      "displayName": "‍이준걸[ 대학원석사과정재학 / 산업경영공학과 ]",
      "photoUrl": "",
      "userId": "01469216314396635001"
     },
     "user_tz": -540
    },
    "id": "1pjqra3a58Wd",
    "outputId": "b51dbc33-e69e-44a8-b0c0-998a7cc919f1"
   },
   "outputs": [
    {
     "data": {
      "text/plain": [
       "((600, 3073), (300, 3072))"
      ]
     },
     "execution_count": 5,
     "metadata": {
      "tags": []
     },
     "output_type": "execute_result"
    }
   ],
   "source": [
    "train = pd.read_pickle(\"./train.pkl\")\n",
    "test = pd.read_pickle(\"./test.pkl\")\n",
    "train.shape, test.shape"
   ]
  },
  {
   "cell_type": "code",
   "execution_count": 6,
   "metadata": {
    "colab": {
     "base_uri": "https://localhost:8080/",
     "height": 246
    },
    "executionInfo": {
     "elapsed": 973,
     "status": "ok",
     "timestamp": 1602912130978,
     "user": {
      "displayName": "‍이준걸[ 대학원석사과정재학 / 산업경영공학과 ]",
      "photoUrl": "",
      "userId": "01469216314396635001"
     },
     "user_tz": -540
    },
    "id": "UABeXkb87H7K",
    "outputId": "bae5dba6-50de-48e6-fd1e-8914141942d9"
   },
   "outputs": [
    {
     "data": {
      "text/html": [
       "<div>\n",
       "<style scoped>\n",
       "    .dataframe tbody tr th:only-of-type {\n",
       "        vertical-align: middle;\n",
       "    }\n",
       "\n",
       "    .dataframe tbody tr th {\n",
       "        vertical-align: top;\n",
       "    }\n",
       "\n",
       "    .dataframe thead th {\n",
       "        text-align: right;\n",
       "    }\n",
       "</style>\n",
       "<table border=\"1\" class=\"dataframe\">\n",
       "  <thead>\n",
       "    <tr style=\"text-align: right;\">\n",
       "      <th></th>\n",
       "      <th>0</th>\n",
       "      <th>1</th>\n",
       "      <th>2</th>\n",
       "      <th>3</th>\n",
       "      <th>4</th>\n",
       "      <th>5</th>\n",
       "      <th>6</th>\n",
       "      <th>7</th>\n",
       "      <th>8</th>\n",
       "      <th>9</th>\n",
       "      <th>10</th>\n",
       "      <th>11</th>\n",
       "      <th>12</th>\n",
       "      <th>13</th>\n",
       "      <th>14</th>\n",
       "      <th>15</th>\n",
       "      <th>16</th>\n",
       "      <th>17</th>\n",
       "      <th>18</th>\n",
       "      <th>19</th>\n",
       "      <th>20</th>\n",
       "      <th>21</th>\n",
       "      <th>22</th>\n",
       "      <th>23</th>\n",
       "      <th>24</th>\n",
       "      <th>25</th>\n",
       "      <th>26</th>\n",
       "      <th>27</th>\n",
       "      <th>28</th>\n",
       "      <th>29</th>\n",
       "      <th>30</th>\n",
       "      <th>31</th>\n",
       "      <th>32</th>\n",
       "      <th>33</th>\n",
       "      <th>34</th>\n",
       "      <th>35</th>\n",
       "      <th>36</th>\n",
       "      <th>37</th>\n",
       "      <th>38</th>\n",
       "      <th>39</th>\n",
       "      <th>...</th>\n",
       "      <th>3033</th>\n",
       "      <th>3034</th>\n",
       "      <th>3035</th>\n",
       "      <th>3036</th>\n",
       "      <th>3037</th>\n",
       "      <th>3038</th>\n",
       "      <th>3039</th>\n",
       "      <th>3040</th>\n",
       "      <th>3041</th>\n",
       "      <th>3042</th>\n",
       "      <th>3043</th>\n",
       "      <th>3044</th>\n",
       "      <th>3045</th>\n",
       "      <th>3046</th>\n",
       "      <th>3047</th>\n",
       "      <th>3048</th>\n",
       "      <th>3049</th>\n",
       "      <th>3050</th>\n",
       "      <th>3051</th>\n",
       "      <th>3052</th>\n",
       "      <th>3053</th>\n",
       "      <th>3054</th>\n",
       "      <th>3055</th>\n",
       "      <th>3056</th>\n",
       "      <th>3057</th>\n",
       "      <th>3058</th>\n",
       "      <th>3059</th>\n",
       "      <th>3060</th>\n",
       "      <th>3061</th>\n",
       "      <th>3062</th>\n",
       "      <th>3063</th>\n",
       "      <th>3064</th>\n",
       "      <th>3065</th>\n",
       "      <th>3066</th>\n",
       "      <th>3067</th>\n",
       "      <th>3068</th>\n",
       "      <th>3069</th>\n",
       "      <th>3070</th>\n",
       "      <th>3071</th>\n",
       "      <th>label</th>\n",
       "    </tr>\n",
       "  </thead>\n",
       "  <tbody>\n",
       "    <tr>\n",
       "      <th>0</th>\n",
       "      <td>0.160784</td>\n",
       "      <td>0.121569</td>\n",
       "      <td>0.129412</td>\n",
       "      <td>0.149020</td>\n",
       "      <td>0.109804</td>\n",
       "      <td>0.117647</td>\n",
       "      <td>0.062745</td>\n",
       "      <td>0.047059</td>\n",
       "      <td>0.039216</td>\n",
       "      <td>0.070588</td>\n",
       "      <td>0.054902</td>\n",
       "      <td>0.027451</td>\n",
       "      <td>0.121569</td>\n",
       "      <td>0.090196</td>\n",
       "      <td>0.047059</td>\n",
       "      <td>0.133333</td>\n",
       "      <td>0.098039</td>\n",
       "      <td>0.047059</td>\n",
       "      <td>0.231373</td>\n",
       "      <td>0.168627</td>\n",
       "      <td>0.109804</td>\n",
       "      <td>0.290196</td>\n",
       "      <td>0.211765</td>\n",
       "      <td>0.152941</td>\n",
       "      <td>0.294118</td>\n",
       "      <td>0.203922</td>\n",
       "      <td>0.152941</td>\n",
       "      <td>0.266667</td>\n",
       "      <td>0.192157</td>\n",
       "      <td>0.145098</td>\n",
       "      <td>0.250980</td>\n",
       "      <td>0.176471</td>\n",
       "      <td>0.137255</td>\n",
       "      <td>0.247059</td>\n",
       "      <td>0.176471</td>\n",
       "      <td>0.137255</td>\n",
       "      <td>0.247059</td>\n",
       "      <td>0.180392</td>\n",
       "      <td>0.141176</td>\n",
       "      <td>0.231373</td>\n",
       "      <td>...</td>\n",
       "      <td>0.392157</td>\n",
       "      <td>0.278431</td>\n",
       "      <td>0.235294</td>\n",
       "      <td>0.392157</td>\n",
       "      <td>0.262745</td>\n",
       "      <td>0.211765</td>\n",
       "      <td>0.364706</td>\n",
       "      <td>0.250980</td>\n",
       "      <td>0.207843</td>\n",
       "      <td>0.305882</td>\n",
       "      <td>0.207843</td>\n",
       "      <td>0.172549</td>\n",
       "      <td>0.239216</td>\n",
       "      <td>0.180392</td>\n",
       "      <td>0.160784</td>\n",
       "      <td>0.129412</td>\n",
       "      <td>0.109804</td>\n",
       "      <td>0.105882</td>\n",
       "      <td>0.027451</td>\n",
       "      <td>0.023529</td>\n",
       "      <td>0.023529</td>\n",
       "      <td>0.019608</td>\n",
       "      <td>0.023529</td>\n",
       "      <td>0.023529</td>\n",
       "      <td>0.019608</td>\n",
       "      <td>0.023529</td>\n",
       "      <td>0.023529</td>\n",
       "      <td>0.035294</td>\n",
       "      <td>0.035294</td>\n",
       "      <td>0.039216</td>\n",
       "      <td>0.054902</td>\n",
       "      <td>0.054902</td>\n",
       "      <td>0.054902</td>\n",
       "      <td>0.039216</td>\n",
       "      <td>0.039216</td>\n",
       "      <td>0.039216</td>\n",
       "      <td>0.003922</td>\n",
       "      <td>0.003922</td>\n",
       "      <td>0.003922</td>\n",
       "      <td>3</td>\n",
       "    </tr>\n",
       "    <tr>\n",
       "      <th>1</th>\n",
       "      <td>0.964706</td>\n",
       "      <td>0.964706</td>\n",
       "      <td>0.960784</td>\n",
       "      <td>0.866667</td>\n",
       "      <td>0.866667</td>\n",
       "      <td>0.850980</td>\n",
       "      <td>0.854902</td>\n",
       "      <td>0.854902</td>\n",
       "      <td>0.839216</td>\n",
       "      <td>0.854902</td>\n",
       "      <td>0.854902</td>\n",
       "      <td>0.843137</td>\n",
       "      <td>0.854902</td>\n",
       "      <td>0.854902</td>\n",
       "      <td>0.854902</td>\n",
       "      <td>0.839216</td>\n",
       "      <td>0.839216</td>\n",
       "      <td>0.839216</td>\n",
       "      <td>0.835294</td>\n",
       "      <td>0.835294</td>\n",
       "      <td>0.835294</td>\n",
       "      <td>0.843137</td>\n",
       "      <td>0.843137</td>\n",
       "      <td>0.843137</td>\n",
       "      <td>0.854902</td>\n",
       "      <td>0.854902</td>\n",
       "      <td>0.854902</td>\n",
       "      <td>0.862745</td>\n",
       "      <td>0.862745</td>\n",
       "      <td>0.866667</td>\n",
       "      <td>0.870588</td>\n",
       "      <td>0.870588</td>\n",
       "      <td>0.870588</td>\n",
       "      <td>0.874510</td>\n",
       "      <td>0.874510</td>\n",
       "      <td>0.874510</td>\n",
       "      <td>0.878431</td>\n",
       "      <td>0.878431</td>\n",
       "      <td>0.882353</td>\n",
       "      <td>0.894118</td>\n",
       "      <td>...</td>\n",
       "      <td>0.831373</td>\n",
       "      <td>0.835294</td>\n",
       "      <td>0.819608</td>\n",
       "      <td>0.847059</td>\n",
       "      <td>0.847059</td>\n",
       "      <td>0.839216</td>\n",
       "      <td>0.858824</td>\n",
       "      <td>0.858824</td>\n",
       "      <td>0.854902</td>\n",
       "      <td>0.858824</td>\n",
       "      <td>0.858824</td>\n",
       "      <td>0.858824</td>\n",
       "      <td>0.854902</td>\n",
       "      <td>0.854902</td>\n",
       "      <td>0.854902</td>\n",
       "      <td>0.847059</td>\n",
       "      <td>0.850980</td>\n",
       "      <td>0.843137</td>\n",
       "      <td>0.835294</td>\n",
       "      <td>0.835294</td>\n",
       "      <td>0.831373</td>\n",
       "      <td>0.819608</td>\n",
       "      <td>0.819608</td>\n",
       "      <td>0.819608</td>\n",
       "      <td>0.823529</td>\n",
       "      <td>0.823529</td>\n",
       "      <td>0.823529</td>\n",
       "      <td>0.839216</td>\n",
       "      <td>0.843137</td>\n",
       "      <td>0.843137</td>\n",
       "      <td>0.854902</td>\n",
       "      <td>0.858824</td>\n",
       "      <td>0.862745</td>\n",
       "      <td>0.843137</td>\n",
       "      <td>0.847059</td>\n",
       "      <td>0.850980</td>\n",
       "      <td>0.952941</td>\n",
       "      <td>0.952941</td>\n",
       "      <td>0.952941</td>\n",
       "      <td>3</td>\n",
       "    </tr>\n",
       "    <tr>\n",
       "      <th>2</th>\n",
       "      <td>0.564706</td>\n",
       "      <td>0.415686</td>\n",
       "      <td>0.180392</td>\n",
       "      <td>0.478431</td>\n",
       "      <td>0.349020</td>\n",
       "      <td>0.149020</td>\n",
       "      <td>0.450980</td>\n",
       "      <td>0.317647</td>\n",
       "      <td>0.129412</td>\n",
       "      <td>0.450980</td>\n",
       "      <td>0.309804</td>\n",
       "      <td>0.121569</td>\n",
       "      <td>0.372549</td>\n",
       "      <td>0.250980</td>\n",
       "      <td>0.094118</td>\n",
       "      <td>0.133333</td>\n",
       "      <td>0.094118</td>\n",
       "      <td>0.047059</td>\n",
       "      <td>0.039216</td>\n",
       "      <td>0.043137</td>\n",
       "      <td>0.035294</td>\n",
       "      <td>0.050980</td>\n",
       "      <td>0.054902</td>\n",
       "      <td>0.039216</td>\n",
       "      <td>0.054902</td>\n",
       "      <td>0.054902</td>\n",
       "      <td>0.039216</td>\n",
       "      <td>0.043137</td>\n",
       "      <td>0.047059</td>\n",
       "      <td>0.031373</td>\n",
       "      <td>0.133333</td>\n",
       "      <td>0.113725</td>\n",
       "      <td>0.074510</td>\n",
       "      <td>0.478431</td>\n",
       "      <td>0.368627</td>\n",
       "      <td>0.247059</td>\n",
       "      <td>0.505882</td>\n",
       "      <td>0.392157</td>\n",
       "      <td>0.262745</td>\n",
       "      <td>0.556863</td>\n",
       "      <td>...</td>\n",
       "      <td>0.423529</td>\n",
       "      <td>0.258824</td>\n",
       "      <td>0.086275</td>\n",
       "      <td>0.564706</td>\n",
       "      <td>0.376471</td>\n",
       "      <td>0.149020</td>\n",
       "      <td>0.615686</td>\n",
       "      <td>0.431373</td>\n",
       "      <td>0.184314</td>\n",
       "      <td>0.709804</td>\n",
       "      <td>0.552941</td>\n",
       "      <td>0.301961</td>\n",
       "      <td>0.764706</td>\n",
       "      <td>0.631373</td>\n",
       "      <td>0.407843</td>\n",
       "      <td>0.823529</td>\n",
       "      <td>0.721569</td>\n",
       "      <td>0.529412</td>\n",
       "      <td>0.847059</td>\n",
       "      <td>0.756863</td>\n",
       "      <td>0.584314</td>\n",
       "      <td>0.835294</td>\n",
       "      <td>0.737255</td>\n",
       "      <td>0.564706</td>\n",
       "      <td>0.847059</td>\n",
       "      <td>0.756863</td>\n",
       "      <td>0.596078</td>\n",
       "      <td>0.831373</td>\n",
       "      <td>0.733333</td>\n",
       "      <td>0.564706</td>\n",
       "      <td>0.788235</td>\n",
       "      <td>0.686275</td>\n",
       "      <td>0.509804</td>\n",
       "      <td>0.698039</td>\n",
       "      <td>0.611765</td>\n",
       "      <td>0.454902</td>\n",
       "      <td>0.729412</td>\n",
       "      <td>0.611765</td>\n",
       "      <td>0.411765</td>\n",
       "      <td>3</td>\n",
       "    </tr>\n",
       "    <tr>\n",
       "      <th>3</th>\n",
       "      <td>0.396078</td>\n",
       "      <td>0.286275</td>\n",
       "      <td>0.152941</td>\n",
       "      <td>0.411765</td>\n",
       "      <td>0.286275</td>\n",
       "      <td>0.145098</td>\n",
       "      <td>0.419608</td>\n",
       "      <td>0.286275</td>\n",
       "      <td>0.141176</td>\n",
       "      <td>0.423529</td>\n",
       "      <td>0.278431</td>\n",
       "      <td>0.133333</td>\n",
       "      <td>0.419608</td>\n",
       "      <td>0.270588</td>\n",
       "      <td>0.117647</td>\n",
       "      <td>0.407843</td>\n",
       "      <td>0.247059</td>\n",
       "      <td>0.090196</td>\n",
       "      <td>0.505882</td>\n",
       "      <td>0.388235</td>\n",
       "      <td>0.286275</td>\n",
       "      <td>0.850980</td>\n",
       "      <td>0.905882</td>\n",
       "      <td>0.909804</td>\n",
       "      <td>0.949020</td>\n",
       "      <td>0.992157</td>\n",
       "      <td>0.996078</td>\n",
       "      <td>0.949020</td>\n",
       "      <td>0.996078</td>\n",
       "      <td>1.000000</td>\n",
       "      <td>0.807843</td>\n",
       "      <td>0.784314</td>\n",
       "      <td>0.694118</td>\n",
       "      <td>0.835294</td>\n",
       "      <td>0.815686</td>\n",
       "      <td>0.717647</td>\n",
       "      <td>0.925490</td>\n",
       "      <td>0.988235</td>\n",
       "      <td>0.984314</td>\n",
       "      <td>0.921569</td>\n",
       "      <td>...</td>\n",
       "      <td>0.956863</td>\n",
       "      <td>1.000000</td>\n",
       "      <td>1.000000</td>\n",
       "      <td>0.925490</td>\n",
       "      <td>0.984314</td>\n",
       "      <td>0.996078</td>\n",
       "      <td>0.827451</td>\n",
       "      <td>0.882353</td>\n",
       "      <td>0.901961</td>\n",
       "      <td>0.760784</td>\n",
       "      <td>0.788235</td>\n",
       "      <td>0.776471</td>\n",
       "      <td>0.811765</td>\n",
       "      <td>0.835294</td>\n",
       "      <td>0.819608</td>\n",
       "      <td>0.878431</td>\n",
       "      <td>0.933333</td>\n",
       "      <td>0.960784</td>\n",
       "      <td>0.862745</td>\n",
       "      <td>0.952941</td>\n",
       "      <td>0.992157</td>\n",
       "      <td>0.858824</td>\n",
       "      <td>0.964706</td>\n",
       "      <td>0.996078</td>\n",
       "      <td>0.843137</td>\n",
       "      <td>0.956863</td>\n",
       "      <td>1.000000</td>\n",
       "      <td>0.807843</td>\n",
       "      <td>0.827451</td>\n",
       "      <td>0.811765</td>\n",
       "      <td>0.654902</td>\n",
       "      <td>0.501961</td>\n",
       "      <td>0.360784</td>\n",
       "      <td>0.717647</td>\n",
       "      <td>0.611765</td>\n",
       "      <td>0.470588</td>\n",
       "      <td>0.823529</td>\n",
       "      <td>0.752941</td>\n",
       "      <td>0.627451</td>\n",
       "      <td>3</td>\n",
       "    </tr>\n",
       "    <tr>\n",
       "      <th>4</th>\n",
       "      <td>0.309804</td>\n",
       "      <td>0.203922</td>\n",
       "      <td>0.160784</td>\n",
       "      <td>0.415686</td>\n",
       "      <td>0.278431</td>\n",
       "      <td>0.215686</td>\n",
       "      <td>0.588235</td>\n",
       "      <td>0.403922</td>\n",
       "      <td>0.294118</td>\n",
       "      <td>0.631373</td>\n",
       "      <td>0.407843</td>\n",
       "      <td>0.274510</td>\n",
       "      <td>0.698039</td>\n",
       "      <td>0.470588</td>\n",
       "      <td>0.321569</td>\n",
       "      <td>0.650980</td>\n",
       "      <td>0.376471</td>\n",
       "      <td>0.235294</td>\n",
       "      <td>0.627451</td>\n",
       "      <td>0.341176</td>\n",
       "      <td>0.196078</td>\n",
       "      <td>0.627451</td>\n",
       "      <td>0.352941</td>\n",
       "      <td>0.200000</td>\n",
       "      <td>0.615686</td>\n",
       "      <td>0.329412</td>\n",
       "      <td>0.184314</td>\n",
       "      <td>0.690196</td>\n",
       "      <td>0.396078</td>\n",
       "      <td>0.219608</td>\n",
       "      <td>0.721569</td>\n",
       "      <td>0.419608</td>\n",
       "      <td>0.235294</td>\n",
       "      <td>0.725490</td>\n",
       "      <td>0.435294</td>\n",
       "      <td>0.243137</td>\n",
       "      <td>0.705882</td>\n",
       "      <td>0.392157</td>\n",
       "      <td>0.207843</td>\n",
       "      <td>0.721569</td>\n",
       "      <td>...</td>\n",
       "      <td>0.768627</td>\n",
       "      <td>0.784314</td>\n",
       "      <td>0.796078</td>\n",
       "      <td>0.776471</td>\n",
       "      <td>0.784314</td>\n",
       "      <td>0.800000</td>\n",
       "      <td>0.788235</td>\n",
       "      <td>0.792157</td>\n",
       "      <td>0.803922</td>\n",
       "      <td>0.796078</td>\n",
       "      <td>0.800000</td>\n",
       "      <td>0.811765</td>\n",
       "      <td>0.811765</td>\n",
       "      <td>0.815686</td>\n",
       "      <td>0.823529</td>\n",
       "      <td>0.839216</td>\n",
       "      <td>0.839216</td>\n",
       "      <td>0.847059</td>\n",
       "      <td>0.858824</td>\n",
       "      <td>0.858824</td>\n",
       "      <td>0.866667</td>\n",
       "      <td>0.843137</td>\n",
       "      <td>0.839216</td>\n",
       "      <td>0.854902</td>\n",
       "      <td>0.705882</td>\n",
       "      <td>0.694118</td>\n",
       "      <td>0.717647</td>\n",
       "      <td>0.509804</td>\n",
       "      <td>0.470588</td>\n",
       "      <td>0.474510</td>\n",
       "      <td>0.356863</td>\n",
       "      <td>0.305882</td>\n",
       "      <td>0.290196</td>\n",
       "      <td>0.298039</td>\n",
       "      <td>0.239216</td>\n",
       "      <td>0.215686</td>\n",
       "      <td>0.223529</td>\n",
       "      <td>0.180392</td>\n",
       "      <td>0.168627</td>\n",
       "      <td>3</td>\n",
       "    </tr>\n",
       "  </tbody>\n",
       "</table>\n",
       "<p>5 rows × 3073 columns</p>\n",
       "</div>"
      ],
      "text/plain": [
       "          0         1         2         3  ...      3069      3070      3071  label\n",
       "0  0.160784  0.121569  0.129412  0.149020  ...  0.003922  0.003922  0.003922      3\n",
       "1  0.964706  0.964706  0.960784  0.866667  ...  0.952941  0.952941  0.952941      3\n",
       "2  0.564706  0.415686  0.180392  0.478431  ...  0.729412  0.611765  0.411765      3\n",
       "3  0.396078  0.286275  0.152941  0.411765  ...  0.823529  0.752941  0.627451      3\n",
       "4  0.309804  0.203922  0.160784  0.415686  ...  0.223529  0.180392  0.168627      3\n",
       "\n",
       "[5 rows x 3073 columns]"
      ]
     },
     "execution_count": 6,
     "metadata": {
      "tags": []
     },
     "output_type": "execute_result"
    }
   ],
   "source": [
    "train.head(5)\n",
    "#3072개의 픽셀과 label"
   ]
  },
  {
   "cell_type": "code",
   "execution_count": null,
   "metadata": {
    "colab": {
     "base_uri": "https://localhost:8080/",
     "height": 35
    },
    "executionInfo": {
     "elapsed": 776,
     "status": "ok",
     "timestamp": 1602731156887,
     "user": {
      "displayName": "‍이준걸[ 대학원석사과정재학 / 산업경영공학과 ]",
      "photoUrl": "",
      "userId": "01469216314396635001"
     },
     "user_tz": -540
    },
    "id": "qEsfXZha5-fs",
    "outputId": "02b21a0b-b3fc-4e1c-fe6f-9d3342e7d24d"
   },
   "outputs": [
    {
     "data": {
      "text/plain": [
       "((600, 3072), (600,))"
      ]
     },
     "execution_count": 7,
     "metadata": {
      "tags": []
     },
     "output_type": "execute_result"
    }
   ],
   "source": [
    "# X와 y로 나누기\n",
    "# X는 한 픽셀을 Feature로 잡은 것 입니다.\n",
    "# y는 label입니다. \n",
    "#label3 -> 만두\n",
    "#label4 -> 새우튀김\n",
    "#label5 -> 순대\n",
    "X = train.drop(columns = ['label'])\n",
    "y =train['label']\n",
    "X_test= test.copy()\n",
    "X.shape, y.shape"
   ]
  },
  {
   "cell_type": "markdown",
   "metadata": {
    "id": "X5QgDOog7BuG"
   },
   "source": [
    "# 2. Data Visualization\n",
    "- 0번째, 200번째, 400번째 데이터를 확인합니다.\n",
    "- 전체 픽셀의 개수는 3072입니다. 이를 (32, 32, 3)으로 변환하면 3D Tensor 즉, image가 됩니다."
   ]
  },
  {
   "cell_type": "code",
   "execution_count": null,
   "metadata": {
    "colab": {
     "base_uri": "https://localhost:8080/",
     "height": 302
    },
    "executionInfo": {
     "elapsed": 700,
     "status": "ok",
     "timestamp": 1602731163724,
     "user": {
      "displayName": "‍이준걸[ 대학원석사과정재학 / 산업경영공학과 ]",
      "photoUrl": "",
      "userId": "01469216314396635001"
     },
     "user_tz": -540
    },
    "id": "SY8Bdm7g6bJp",
    "outputId": "5f9c487d-0421-48af-aff3-bea9b1b5801d"
   },
   "outputs": [
    {
     "name": "stdout",
     "output_type": "stream",
     "text": [
      "3\n"
     ]
    },
    {
     "data": {
      "text/plain": [
       "<matplotlib.image.AxesImage at 0x7f6a3a80db70>"
      ]
     },
     "execution_count": 8,
     "metadata": {
      "tags": []
     },
     "output_type": "execute_result"
    },
    {
     "data": {
      "image/png": "[encoded data removed]",
      "text/plain": [
       "<Figure size 432x288 with 1 Axes>"
      ]
     },
     "metadata": {
      "needs_background": "light",
      "tags": []
     },
     "output_type": "display_data"
    }
   ],
   "source": [
    "# 0번째 label 및 이미지 확인\n",
    "#label3 -> 만두\n",
    "print(y[0])\n",
    "plt.imshow(X.iloc[0].values.reshape(32,32,3)) # (32,32,3)으로 변환"
   ]
  },
  {
   "cell_type": "code",
   "execution_count": null,
   "metadata": {
    "colab": {
     "base_uri": "https://localhost:8080/",
     "height": 302
    },
    "executionInfo": {
     "elapsed": 825,
     "status": "ok",
     "timestamp": 1602731171758,
     "user": {
      "displayName": "‍이준걸[ 대학원석사과정재학 / 산업경영공학과 ]",
      "photoUrl": "",
      "userId": "01469216314396635001"
     },
     "user_tz": -540
    },
    "id": "mkw5U9Ck6dqv",
    "outputId": "abe20ca5-501f-4463-e335-1ffce9d5a722"
   },
   "outputs": [
    {
     "name": "stdout",
     "output_type": "stream",
     "text": [
      "4\n"
     ]
    },
    {
     "data": {
      "text/plain": [
       "<matplotlib.image.AxesImage at 0x7f6a3a3453c8>"
      ]
     },
     "execution_count": 9,
     "metadata": {
      "tags": []
     },
     "output_type": "execute_result"
    },
    {
     "data": {
      "image/png": "[encoded data removed]",
      "text/plain": [
       "<Figure size 432x288 with 1 Axes>"
      ]
     },
     "metadata": {
      "needs_background": "light",
      "tags": []
     },
     "output_type": "display_data"
    }
   ],
   "source": [
    "# 200번째 label 및 이미지 확인\n",
    "#label4 -> 새우튀김\n",
    "print(y[200])\n",
    "plt.imshow(X.iloc[200].values.reshape(32,32,3))"
   ]
  },
  {
   "cell_type": "code",
   "execution_count": null,
   "metadata": {
    "colab": {
     "base_uri": "https://localhost:8080/",
     "height": 302
    },
    "executionInfo": {
     "elapsed": 938,
     "status": "ok",
     "timestamp": 1602731180358,
     "user": {
      "displayName": "‍이준걸[ 대학원석사과정재학 / 산업경영공학과 ]",
      "photoUrl": "",
      "userId": "01469216314396635001"
     },
     "user_tz": -540
    },
    "id": "586QB3bO689t",
    "outputId": "a1db1c93-0170-4962-f117-877504fcf19f"
   },
   "outputs": [
    {
     "name": "stdout",
     "output_type": "stream",
     "text": [
      "5\n"
     ]
    },
    {
     "data": {
      "text/plain": [
       "<matplotlib.image.AxesImage at 0x7f6a3a3325f8>"
      ]
     },
     "execution_count": 10,
     "metadata": {
      "tags": []
     },
     "output_type": "execute_result"
    },
    {
     "data": {
      "image/png": "[encoded data removed]",
      "text/plain": [
       "<Figure size 432x288 with 1 Axes>"
      ]
     },
     "metadata": {
      "needs_background": "light",
      "tags": []
     },
     "output_type": "display_data"
    }
   ],
   "source": [
    "# 400번째 label 및 이미지 확인\n",
    "#label5 -> 순대\n",
    "print(y[400])\n",
    "plt.imshow(X.iloc[400].values.reshape(32,32,3))"
   ]
  },
  {
   "cell_type": "markdown",
   "metadata": {
    "id": "4VqrJnk27gAe"
   },
   "source": [
    "# 3. Validation set 구성\n",
    "- 제공된 전체 학습데이터 600장 중 480장만 학습에 이용\n",
    "- 나머지 120장은 Validation으로 구성하여 성능 검증에 이용"
   ]
  },
  {
   "cell_type": "code",
   "execution_count": null,
   "metadata": {
    "colab": {
     "base_uri": "https://localhost:8080/",
     "height": 35
    },
    "executionInfo": {
     "elapsed": 997,
     "status": "ok",
     "timestamp": 1602731184137,
     "user": {
      "displayName": "‍이준걸[ 대학원석사과정재학 / 산업경영공학과 ]",
      "photoUrl": "",
      "userId": "01469216314396635001"
     },
     "user_tz": -540
    },
    "id": "m1_QsGpH7eNq",
    "outputId": "816718c6-7cc1-492f-8804-e7a0d461ebcc"
   },
   "outputs": [
    {
     "data": {
      "text/plain": [
       "((480, 3072), (120, 3072), (480,), (120,))"
      ]
     },
     "execution_count": 11,
     "metadata": {
      "tags": []
     },
     "output_type": "execute_result"
    }
   ],
   "source": [
    "from sklearn.model_selection import train_test_split\n",
    "X_train, X_vld, y_train, y_vld = train_test_split(X, y, random_state=42, test_size = .2)\n",
    "X_train.shape, X_vld.shape, y_train.shape, y_vld.shape"
   ]
  },
  {
   "cell_type": "markdown",
   "metadata": {
    "id": "1yw35MmM7mrW"
   },
   "source": [
    "# 4. Modeling\n",
    "- Logistic Regression\n",
    "- KNN\n",
    "- 각각의 Hyperparaparameter를 튜닝시켜 가장 좋은 성능 모델로 Test를 진행하여 체점을 진행해보겠습니다."
   ]
  },
  {
   "cell_type": "code",
   "execution_count": null,
   "metadata": {
    "id": "pcDvvg4C8FOs"
   },
   "outputs": [],
   "source": [
    "from sklearn.linear_model import LogisticRegression\n",
    "from sklearn.neighbors import KNeighborsClassifier"
   ]
  },
  {
   "cell_type": "markdown",
   "metadata": {
    "id": "Z4_qsgUD8bID"
   },
   "source": [
    "# 4.1 Hyper-parameter Searching\n",
    "- Grid Search 방법을 진행합니다. (설정한 모든 경우의 조합으로 성능을 평가함.)\n",
    "- 이를 5-Fold Cross Validation을 통해 가장 좋았던 파라미터를 찾습니다."
   ]
  },
  {
   "cell_type": "code",
   "execution_count": null,
   "metadata": {
    "id": "gkeHcjCm8d30"
   },
   "outputs": [],
   "source": [
    "from sklearn.model_selection import GridSearchCV\n",
    "from sklearn.metrics import accuracy_score, classification_report, confusion_matrix"
   ]
  },
  {
   "cell_type": "code",
   "execution_count": null,
   "metadata": {
    "id": "oLQlD2tn8jru"
   },
   "outputs": [],
   "source": [
    "algorithmes = [LogisticRegression(), KNeighborsClassifier(n_jobs=-1)]\n",
    "\n",
    "##실험 파라미터 셋팅###\n",
    "params = []\n",
    "params.append([{\n",
    "    \"solver\" : [\"saga\"],\n",
    "    \"penalty\" : [\"l1\"],\n",
    "    \"C\" : [0.1,  5.0, 7.0, 10.0, 15.0, 20.0, 100.0]\n",
    "    },{\n",
    "    \"solver\" : ['liblinear'],\n",
    "    \"penalty\" : [\"l2\"],\n",
    "    \"C\" : [0.1,  5.0, 7.0, 10.0, 15.0, 20.0, 100.0]\n",
    "    }\n",
    "    ]) #Logistic Regression 하이퍼 파라미터\n",
    "\n",
    "params.append({\n",
    "    \"p\":[int(i) for i in range(1,3)],\n",
    "    \"n_neighbors\":[i for i in range(2, 6)]}) #KNN 하이퍼 파라미터"
   ]
  },
  {
   "cell_type": "code",
   "execution_count": null,
   "metadata": {
    "colab": {
     "base_uri": "https://localhost:8080/",
     "height": 647
    },
    "executionInfo": {
     "elapsed": 223662,
     "status": "ok",
     "timestamp": 1602731411927,
     "user": {
      "displayName": "‍이준걸[ 대학원석사과정재학 / 산업경영공학과 ]",
      "photoUrl": "",
      "userId": "01469216314396635001"
     },
     "user_tz": -540
    },
    "id": "ALOia1Pt8pLQ",
    "outputId": "5ce07559-e1be-44d8-b335-9270aafb79b8"
   },
   "outputs": [
    {
     "name": "stdout",
     "output_type": "stream",
     "text": [
      "GridSearchCV(cv=5, error_score=nan,\n",
      "             estimator=LogisticRegression(C=1.0, class_weight=None, dual=False,\n",
      "                                          fit_intercept=True,\n",
      "                                          intercept_scaling=1, l1_ratio=None,\n",
      "                                          max_iter=100, multi_class='auto',\n",
      "                                          n_jobs=None, penalty='l2',\n",
      "                                          random_state=None, solver='lbfgs',\n",
      "                                          tol=0.0001, verbose=0,\n",
      "                                          warm_start=False),\n",
      "             iid='deprecated', n_jobs=4,\n",
      "             param_grid=[{'C': [0.1, 5.0, 7.0, 10.0, 15.0, 20.0, 100.0],\n",
      "                          'penalty': ['l1'], 'solver': ['saga']},\n",
      "                         {'C': [0.1, 5.0, 7.0, 10.0, 15.0, 20.0, 100.0],\n",
      "                          'penalty': ['l2'], 'solver': ['liblinear']}],\n",
      "             pre_dispatch='2*n_jobs', refit='accuracy',\n",
      "             return_train_score=False, scoring=['accuracy'], verbose=1)\n",
      "Fitting 5 folds for each of 14 candidates, totalling 70 fits\n"
     ]
    },
    {
     "name": "stderr",
     "output_type": "stream",
     "text": [
      "[Parallel(n_jobs=4)]: Using backend LokyBackend with 4 concurrent workers.\n",
      "[Parallel(n_jobs=4)]: Done  42 tasks      | elapsed:  2.8min\n",
      "[Parallel(n_jobs=4)]: Done  70 out of  70 | elapsed:  3.4min finished\n",
      "/usr/local/lib/python3.6/dist-packages/sklearn/linear_model/_sag.py:330: ConvergenceWarning: The max_iter was reached which means the coef_ did not converge\n",
      "  \"the coef_ did not converge\", ConvergenceWarning)\n",
      "[Parallel(n_jobs=4)]: Using backend LokyBackend with 4 concurrent workers.\n"
     ]
    },
    {
     "name": "stdout",
     "output_type": "stream",
     "text": [
      "GridSearchCV(cv=5, error_score=nan,\n",
      "             estimator=KNeighborsClassifier(algorithm='auto', leaf_size=30,\n",
      "                                            metric='minkowski',\n",
      "                                            metric_params=None, n_jobs=-1,\n",
      "                                            n_neighbors=5, p=2,\n",
      "                                            weights='uniform'),\n",
      "             iid='deprecated', n_jobs=4,\n",
      "             param_grid={'n_neighbors': [2, 3, 4, 5], 'p': [1, 2]},\n",
      "             pre_dispatch='2*n_jobs', refit='accuracy',\n",
      "             return_train_score=False, scoring=['accuracy'], verbose=1)\n",
      "Fitting 5 folds for each of 8 candidates, totalling 40 fits\n"
     ]
    },
    {
     "name": "stderr",
     "output_type": "stream",
     "text": [
      "[Parallel(n_jobs=4)]: Done  40 out of  40 | elapsed:   12.6s finished\n"
     ]
    }
   ],
   "source": [
    "#### 5 - Fold Cross Validation & Accuracy\n",
    "scoring = ['accuracy']\n",
    "estimator_results = []\n",
    "for i, (estimator, params) in enumerate(zip(algorithmes,params)):\n",
    "    gs_estimator = GridSearchCV(\n",
    "            refit=\"accuracy\", estimator=estimator,param_grid=params, scoring=scoring, cv=5, verbose=1, n_jobs=4)\n",
    "    print(gs_estimator)\n",
    "\n",
    "    gs_estimator.fit(X, y)\n",
    "    estimator_results.append(gs_estimator)"
   ]
  },
  {
   "cell_type": "code",
   "execution_count": null,
   "metadata": {
    "colab": {
     "base_uri": "https://localhost:8080/",
     "height": 53
    },
    "executionInfo": {
     "elapsed": 221092,
     "status": "ok",
     "timestamp": 1602731411930,
     "user": {
      "displayName": "‍이준걸[ 대학원석사과정재학 / 산업경영공학과 ]",
      "photoUrl": "",
      "userId": "01469216314396635001"
     },
     "user_tz": -540
    },
    "id": "zXY_Sd2A-fbh",
    "outputId": "22bde2ee-214d-4c54-8e42-97037be13ee8"
   },
   "outputs": [
    {
     "name": "stdout",
     "output_type": "stream",
     "text": [
      "Logistic의 가장 좋은 성능은  0.7466666666666667\n",
      "KNN의 가장 좋은 성능은  0.5983333333333334\n"
     ]
    }
   ],
   "source": [
    "print(\"Logistic의 가장 좋은 성능은 \",estimator_results[0].best_score_)\n",
    "print(\"KNN의 가장 좋은 성능은 \",estimator_results[1].best_score_)"
   ]
  },
  {
   "cell_type": "markdown",
   "metadata": {
    "id": "QcKEVMgjAnM8"
   },
   "source": [
    "# 4.2 가장 좋은 모델의 가장 좋은 하이퍼 파라미터로 학습시키기\n",
    "- 가장 좋은 모델로 전체 학습데이터 600장 중 480장만 학습에 이용\n",
    "- 나머지 120장은 Validation으로 구성하여 성능 검증에 이용"
   ]
  },
  {
   "cell_type": "code",
   "execution_count": null,
   "metadata": {
    "colab": {
     "base_uri": "https://localhost:8080/",
     "height": 143
    },
    "executionInfo": {
     "elapsed": 5151,
     "status": "ok",
     "timestamp": 1602731471725,
     "user": {
      "displayName": "‍이준걸[ 대학원석사과정재학 / 산업경영공학과 ]",
      "photoUrl": "",
      "userId": "01469216314396635001"
     },
     "user_tz": -540
    },
    "id": "U8Y4GHaeAYHo",
    "outputId": "d78e821f-3000-4078-e1cc-d64f90783125"
   },
   "outputs": [
    {
     "name": "stderr",
     "output_type": "stream",
     "text": [
      "/usr/local/lib/python3.6/dist-packages/sklearn/linear_model/_sag.py:330: ConvergenceWarning: The max_iter was reached which means the coef_ did not converge\n",
      "  \"the coef_ did not converge\", ConvergenceWarning)\n"
     ]
    },
    {
     "data": {
      "text/plain": [
       "LogisticRegression(C=0.1, class_weight=None, dual=False, fit_intercept=True,\n",
       "                   intercept_scaling=1, l1_ratio=None, max_iter=100,\n",
       "                   multi_class='auto', n_jobs=None, penalty='l1',\n",
       "                   random_state=None, solver='saga', tol=0.0001, verbose=0,\n",
       "                   warm_start=False)"
      ]
     },
     "execution_count": 21,
     "metadata": {
      "tags": []
     },
     "output_type": "execute_result"
    }
   ],
   "source": [
    "#가장 좋은 모델 설정\n",
    "model = estimator_results[0].best_estimator_\n",
    "model.fit(X_train, y_train)"
   ]
  },
  {
   "cell_type": "markdown",
   "metadata": {
    "id": "1A6XPJZ5Bskg"
   },
   "source": [
    "# 5. Validation 성능평가\n",
    "- Validation set의 성능을 평가합니다.\n",
    "- Recall, Precision 확인\n",
    "- Confusion Matrix 확인"
   ]
  },
  {
   "cell_type": "code",
   "execution_count": null,
   "metadata": {
    "id": "evIE29K4AliQ"
   },
   "outputs": [],
   "source": [
    "# validation 예측\n",
    "pred = model.predict(X_vld)"
   ]
  },
  {
   "cell_type": "code",
   "execution_count": null,
   "metadata": {
    "colab": {
     "base_uri": "https://localhost:8080/",
     "height": 251
    },
    "executionInfo": {
     "elapsed": 215175,
     "status": "ok",
     "timestamp": 1602731416460,
     "user": {
      "displayName": "‍이준걸[ 대학원석사과정재학 / 산업경영공학과 ]",
      "photoUrl": "",
      "userId": "01469216314396635001"
     },
     "user_tz": -540
    },
    "id": "60AEMjerBHiP",
    "outputId": "71742f2c-968b-4c36-c08d-9f188dfccd28"
   },
   "outputs": [
    {
     "name": "stdout",
     "output_type": "stream",
     "text": [
      "              precision    recall  f1-score   support\n",
      "\n",
      "           3       0.74      0.53      0.62        43\n",
      "           4       0.73      0.97      0.83        36\n",
      "           5       0.71      0.71      0.71        41\n",
      "\n",
      "    accuracy                           0.73       120\n",
      "   macro avg       0.73      0.74      0.72       120\n",
      "weighted avg       0.73      0.72      0.71       120\n",
      "\n",
      "[[23  8 12]\n",
      " [ 1 35  0]\n",
      " [ 7  5 29]]\n"
     ]
    }
   ],
   "source": [
    "# validation set 성능 확인\n",
    "from sklearn.metrics import classification_report, confusion_matrix\n",
    "print(classification_report(y_vld, pred))\n",
    "print(confusion_matrix(y_vld, pred))"
   ]
  },
  {
   "cell_type": "code",
   "execution_count": null,
   "metadata": {
    "colab": {
     "base_uri": "https://localhost:8080/",
     "height": 161
    },
    "executionInfo": {
     "elapsed": 213765,
     "status": "ok",
     "timestamp": 1602731416460,
     "user": {
      "displayName": "‍이준걸[ 대학원석사과정재학 / 산업경영공학과 ]",
      "photoUrl": "",
      "userId": "01469216314396635001"
     },
     "user_tz": -540
    },
    "id": "yw-FRs1rBH9Q",
    "outputId": "de6da53c-a90b-4a21-ed56-f5f43778fa76"
   },
   "outputs": [
    {
     "name": "stdout",
     "output_type": "stream",
     "text": [
      "True [3 5 5 3 3 4 3 5 3 4 3 3 3 5 4 4 3 4 3 3 3 5 5 5 4 5 3 3 5 5 5 3 3 4 3 5 3\n",
      " 5 5 4 4 3 5 5 3 3 5 3 3 5 4 4 3 5 5 4 4 3 3 3 3 3 4 5 5 3 5 5 3 4 4 3 5 4\n",
      " 5 5 4 4 5 5 4 5 5 4 3 3 3 4 4 4 4 5 3 4 4 4 4 3 5 3 3 4 5 4 3 5 3 4 4 5 3\n",
      " 5 5 5 4 4 4 3 5 5]\n",
      "Prediction [5 5 4 3 4 4 3 5 4 4 3 3 3 5 4 4 3 4 5 3 4 5 3 5 4 5 3 4 5 5 5 5 5 4 5 5 3\n",
      " 5 4 4 4 3 5 5 5 3 5 5 3 3 4 4 3 5 3 4 4 3 5 3 5 3 3 3 5 4 5 5 5 4 4 3 4 4\n",
      " 3 3 4 4 5 4 4 5 5 4 3 3 4 4 4 4 4 5 3 4 4 4 4 3 5 3 3 4 5 4 4 5 5 4 4 5 5\n",
      " 5 5 5 4 4 4 4 4 3]\n"
     ]
    }
   ],
   "source": [
    "# 결과 확인\n",
    "print(\"True\", y_vld.values)\n",
    "print(\"Prediction\", pred)"
   ]
  },
  {
   "cell_type": "code",
   "execution_count": null,
   "metadata": {
    "colab": {
     "base_uri": "https://localhost:8080/",
     "height": 284
    },
    "executionInfo": {
     "elapsed": 1176,
     "status": "ok",
     "timestamp": 1602731504024,
     "user": {
      "displayName": "‍이준걸[ 대학원석사과정재학 / 산업경영공학과 ]",
      "photoUrl": "",
      "userId": "01469216314396635001"
     },
     "user_tz": -540
    },
    "id": "Vu2-gfa9BKyR",
    "outputId": "7e49e4cf-8231-4b94-88ac-0b48138aaf44"
   },
   "outputs": [
    {
     "data": {
      "text/plain": [
       "<matplotlib.image.AxesImage at 0x7f6a2b8b2e48>"
      ]
     },
     "execution_count": 22,
     "metadata": {
      "tags": []
     },
     "output_type": "execute_result"
    },
    {
     "data": {
      "image/png": "[encoded data removed]",
      "text/plain": [
       "<Figure size 432x288 with 1 Axes>"
      ]
     },
     "metadata": {
      "needs_background": "light",
      "tags": []
     },
     "output_type": "display_data"
    }
   ],
   "source": [
    "# 첫번째 데이터 True : 3(만두)\n",
    "# 첫번째 데이터 Label : 5(순대)\n",
    "# 즉 모델이 만두을 순대로 잘못예측한 개체이다.\n",
    "plt.imshow(X_vld.iloc[0].values.reshape(32,32,3))"
   ]
  },
  {
   "cell_type": "markdown",
   "metadata": {
    "id": "oyddIL8mBl_p"
   },
   "source": [
    "# 6. Testset 제출 및 Submission file 만들기\n",
    "- 학습되지 않은 Validation 120장을 추가여 600장을 한꺼번에 학습시킵니다.\n",
    "- 이를 통해 Test data을 예측합니다.\n",
    "- 제출 파일은 numpy array을 저장하여 .npy로 제출해주시기 바랍니다.\n",
    "\n"
   ]
  },
  {
   "cell_type": "code",
   "execution_count": null,
   "metadata": {
    "colab": {
     "base_uri": "https://localhost:8080/",
     "height": 143
    },
    "executionInfo": {
     "elapsed": 6676,
     "status": "ok",
     "timestamp": 1602731515668,
     "user": {
      "displayName": "‍이준걸[ 대학원석사과정재학 / 산업경영공학과 ]",
      "photoUrl": "",
      "userId": "01469216314396635001"
     },
     "user_tz": -540
    },
    "id": "bckqq7ZmBvmT",
    "outputId": "2abd0a34-434c-4c97-972f-3f291b401d81"
   },
   "outputs": [
    {
     "name": "stderr",
     "output_type": "stream",
     "text": [
      "/usr/local/lib/python3.6/dist-packages/sklearn/linear_model/_sag.py:330: ConvergenceWarning: The max_iter was reached which means the coef_ did not converge\n",
      "  \"the coef_ did not converge\", ConvergenceWarning)\n"
     ]
    },
    {
     "data": {
      "text/plain": [
       "LogisticRegression(C=0.1, class_weight=None, dual=False, fit_intercept=True,\n",
       "                   intercept_scaling=1, l1_ratio=None, max_iter=100,\n",
       "                   multi_class='auto', n_jobs=None, penalty='l1',\n",
       "                   random_state=None, solver='saga', tol=0.0001, verbose=0,\n",
       "                   warm_start=False)"
      ]
     },
     "execution_count": 23,
     "metadata": {
      "tags": []
     },
     "output_type": "execute_result"
    }
   ],
   "source": [
    "# 전체데이터로 학습하기\n",
    "model.fit(X, y)"
   ]
  },
  {
   "cell_type": "code",
   "execution_count": null,
   "metadata": {
    "id": "96Dv7ECYB-DG"
   },
   "outputs": [],
   "source": [
    "# 테스트 데이터 복사\n",
    "X_test = test.copy()"
   ]
  },
  {
   "cell_type": "code",
   "execution_count": null,
   "metadata": {
    "id": "dA3TDmVxB3YN"
   },
   "outputs": [],
   "source": [
    "final_pred = model.predict(X_test)"
   ]
  },
  {
   "cell_type": "code",
   "execution_count": null,
   "metadata": {
    "id": "2xygCprfCMbR"
   },
   "outputs": [],
   "source": [
    "# final_pred를 npy로 저장합니다.\n",
    "np.save(\"./submissin_file.npy\", final_pred)"
   ]
  },
  {
   "cell_type": "markdown",
   "metadata": {
    "id": "AaI4J6CuCUdA"
   },
   "source": [
    "# B. Deep Learning"
   ]
  },
  {
   "cell_type": "code",
   "execution_count": 7,
   "metadata": {
    "executionInfo": {
     "elapsed": 5626,
     "status": "ok",
     "timestamp": 1602912836469,
     "user": {
      "displayName": "‍이준걸[ 대학원석사과정재학 / 산업경영공학과 ]",
      "photoUrl": "",
      "userId": "01469216314396635001"
     },
     "user_tz": -540
    },
    "id": "-OdQBAxZCXJ8"
   },
   "outputs": [],
   "source": [
    "# X_train url : https://drive.google.com/file/d/1HprU6hvAspAUL5AVgGaWYcagsYFU6o_4/view?usp=sharing\n",
    "# y_train url : https://drive.google.com/file/d/10ais_R7g9aBIoPj0h18R9nm80KV7eY79/view?usp=sharing\n",
    "# X_test url : https://drive.google.com/file/d/1P6pWaTl_mVXIWGEtBOCq8VqC5lXldsJ6/view?usp=sharing\n",
    "\n",
    "download = drive.CreateFile({\"id\": \"1HprU6hvAspAUL5AVgGaWYcagsYFU6o_4\"}) #이부분 수정하면 됩니당\n",
    "download.GetContentFile(\"X_train.npy\")\n",
    "\n",
    "download = drive.CreateFile({\"id\": \"10ais_R7g9aBIoPj0h18R9nm80KV7eY79\"}) #이부분 수정하면 됩니당\n",
    "download.GetContentFile(\"y_train.npy\")\n",
    "\n",
    "download = drive.CreateFile({\"id\": \"1P6pWaTl_mVXIWGEtBOCq8VqC5lXldsJ6\"}) #이부분 수정하면 됩니당\n",
    "download.GetContentFile(\"X_test.npy\")"
   ]
  },
  {
   "cell_type": "markdown",
   "metadata": {
    "id": "ufymEvURDCtM"
   },
   "source": [
    "# 1. Data Loading\n",
    "- Train data를 로딩합니다.\n",
    "- shape을 확인합니다."
   ]
  },
  {
   "cell_type": "code",
   "execution_count": 8,
   "metadata": {
    "executionInfo": {
     "elapsed": 5535,
     "status": "ok",
     "timestamp": 1602912836470,
     "user": {
      "displayName": "‍이준걸[ 대학원석사과정재학 / 산업경영공학과 ]",
      "photoUrl": "",
      "userId": "01469216314396635001"
     },
     "user_tz": -540
    },
    "id": "F6k6UouRDDFi"
   },
   "outputs": [],
   "source": [
    "X_train = np.load(\"X_train.npy\") #Train X data loading\n",
    "y_train = np.load(\"y_train.npy\") #Test X data loading\n",
    "#label3 -> 만두\n",
    "#label4 -> 새우튀김\n",
    "#label5 -> 순대"
   ]
  },
  {
   "cell_type": "code",
   "execution_count": 10,
   "metadata": {
    "colab": {
     "base_uri": "https://localhost:8080/",
     "height": 524
    },
    "executionInfo": {
     "elapsed": 1188,
     "status": "ok",
     "timestamp": 1602912858083,
     "user": {
      "displayName": "‍이준걸[ 대학원석사과정재학 / 산업경영공학과 ]",
      "photoUrl": "",
      "userId": "01469216314396635001"
     },
     "user_tz": -540
    },
    "id": "pKewUwp-DNWD",
    "outputId": "1faca01b-d3d7-48d3-b990-143436d16956"
   },
   "outputs": [
    {
     "data": {
      "text/plain": [
       "array([3, 3, 3, 3, 3, 3, 3, 3, 3, 3, 3, 3, 3, 3, 3, 3, 3, 3, 3, 3, 3, 3,\n",
       "       3, 3, 3, 3, 3, 3, 3, 3, 3, 3, 3, 3, 3, 3, 3, 3, 3, 3, 3, 3, 3, 3,\n",
       "       3, 3, 3, 3, 3, 3, 3, 3, 3, 3, 3, 3, 3, 3, 3, 3, 3, 3, 3, 3, 3, 3,\n",
       "       3, 3, 3, 3, 3, 3, 3, 3, 3, 3, 3, 3, 3, 3, 3, 3, 3, 3, 3, 3, 3, 3,\n",
       "       3, 3, 3, 3, 3, 3, 3, 3, 3, 3, 3, 3, 3, 3, 3, 3, 3, 3, 3, 3, 3, 3,\n",
       "       3, 3, 3, 3, 3, 3, 3, 3, 3, 3, 3, 3, 3, 3, 3, 3, 3, 3, 3, 3, 3, 3,\n",
       "       3, 3, 3, 3, 3, 3, 3, 3, 3, 3, 3, 3, 3, 3, 3, 3, 3, 3, 3, 3, 3, 3,\n",
       "       3, 3, 3, 3, 3, 3, 3, 3, 3, 3, 3, 3, 3, 3, 3, 3, 3, 3, 3, 3, 3, 3,\n",
       "       3, 3, 3, 3, 3, 3, 3, 3, 3, 3, 3, 3, 3, 3, 3, 3, 3, 3, 3, 3, 3, 3,\n",
       "       3, 3, 4, 4, 4, 4, 4, 4, 4, 4, 4, 4, 4, 4, 4, 4, 4, 4, 4, 4, 4, 4,\n",
       "       4, 4, 4, 4, 4, 4, 4, 4, 4, 4, 4, 4, 4, 4, 4, 4, 4, 4, 4, 4, 4, 4,\n",
       "       4, 4, 4, 4, 4, 4, 4, 4, 4, 4, 4, 4, 4, 4, 4, 4, 4, 4, 4, 4, 4, 4,\n",
       "       4, 4, 4, 4, 4, 4, 4, 4, 4, 4, 4, 4, 4, 4, 4, 4, 4, 4, 4, 4, 4, 4,\n",
       "       4, 4, 4, 4, 4, 4, 4, 4, 4, 4, 4, 4, 4, 4, 4, 4, 4, 4, 4, 4, 4, 4,\n",
       "       4, 4, 4, 4, 4, 4, 4, 4, 4, 4, 4, 4, 4, 4, 4, 4, 4, 4, 4, 4, 4, 4,\n",
       "       4, 4, 4, 4, 4, 4, 4, 4, 4, 4, 4, 4, 4, 4, 4, 4, 4, 4, 4, 4, 4, 4,\n",
       "       4, 4, 4, 4, 4, 4, 4, 4, 4, 4, 4, 4, 4, 4, 4, 4, 4, 4, 4, 4, 4, 4,\n",
       "       4, 4, 4, 4, 4, 4, 4, 4, 4, 4, 4, 4, 4, 4, 4, 4, 4, 4, 4, 4, 4, 4,\n",
       "       4, 4, 4, 4, 5, 5, 5, 5, 5, 5, 5, 5, 5, 5, 5, 5, 5, 5, 5, 5, 5, 5,\n",
       "       5, 5, 5, 5, 5, 5, 5, 5, 5, 5, 5, 5, 5, 5, 5, 5, 5, 5, 5, 5, 5, 5,\n",
       "       5, 5, 5, 5, 5, 5, 5, 5, 5, 5, 5, 5, 5, 5, 5, 5, 5, 5, 5, 5, 5, 5,\n",
       "       5, 5, 5, 5, 5, 5, 5, 5, 5, 5, 5, 5, 5, 5, 5, 5, 5, 5, 5, 5, 5, 5,\n",
       "       5, 5, 5, 5, 5, 5, 5, 5, 5, 5, 5, 5, 5, 5, 5, 5, 5, 5, 5, 5, 5, 5,\n",
       "       5, 5, 5, 5, 5, 5, 5, 5, 5, 5, 5, 5, 5, 5, 5, 5, 5, 5, 5, 5, 5, 5,\n",
       "       5, 5, 5, 5, 5, 5, 5, 5, 5, 5, 5, 5, 5, 5, 5, 5, 5, 5, 5, 5, 5, 5,\n",
       "       5, 5, 5, 5, 5, 5, 5, 5, 5, 5, 5, 5, 5, 5, 5, 5, 5, 5, 5, 5, 5, 5,\n",
       "       5, 5, 5, 5, 5, 5, 5, 5, 5, 5, 5, 5, 5, 5, 5, 5, 5, 5, 5, 5, 5, 5,\n",
       "       5, 5, 5, 5, 5, 5], dtype=int32)"
      ]
     },
     "execution_count": 10,
     "metadata": {
      "tags": []
     },
     "output_type": "execute_result"
    }
   ],
   "source": [
    "y_train"
   ]
  },
  {
   "cell_type": "code",
   "execution_count": null,
   "metadata": {
    "colab": {
     "base_uri": "https://localhost:8080/",
     "height": 35
    },
    "executionInfo": {
     "elapsed": 699,
     "status": "ok",
     "timestamp": 1602731697193,
     "user": {
      "displayName": "‍이준걸[ 대학원석사과정재학 / 산업경영공학과 ]",
      "photoUrl": "",
      "userId": "01469216314396635001"
     },
     "user_tz": -540
    },
    "id": "8b3cp0OYDHd5",
    "outputId": "764207fb-e59b-4d2d-ff33-372eda80dbc6"
   },
   "outputs": [
    {
     "data": {
      "text/plain": [
       "((600, 32, 32, 3), (600,))"
      ]
     },
     "execution_count": 30,
     "metadata": {
      "tags": []
     },
     "output_type": "execute_result"
    }
   ],
   "source": [
    "# 각 class마다 200개씩 제공 -> 총 600장\n",
    "# 이미지의 shpae은 RGB 채널을 갖고있는 32x32이미지 입니다. -> (32, 32, 3)\n",
    "X_train.shape, y_train.shape"
   ]
  },
  {
   "cell_type": "markdown",
   "metadata": {
    "id": "jQyHZvZKDKV8"
   },
   "source": [
    "# 2. Data Visualization\n",
    "- 0번째, 200번째, 400번째 데이터를 확인합니다."
   ]
  },
  {
   "cell_type": "code",
   "execution_count": null,
   "metadata": {
    "colab": {
     "base_uri": "https://localhost:8080/",
     "height": 302
    },
    "executionInfo": {
     "elapsed": 659,
     "status": "ok",
     "timestamp": 1602731703975,
     "user": {
      "displayName": "‍이준걸[ 대학원석사과정재학 / 산업경영공학과 ]",
      "photoUrl": "",
      "userId": "01469216314396635001"
     },
     "user_tz": -540
    },
    "id": "lN1AM8X1DKt_",
    "outputId": "367653f9-67b1-43ae-e466-380cff55b880"
   },
   "outputs": [
    {
     "name": "stdout",
     "output_type": "stream",
     "text": [
      "3\n"
     ]
    },
    {
     "data": {
      "text/plain": [
       "<matplotlib.image.AxesImage at 0x7f6a2902c828>"
      ]
     },
     "execution_count": 31,
     "metadata": {
      "tags": []
     },
     "output_type": "execute_result"
    },
    {
     "data": {
      "image/png": "[encoded data removed]",
      "text/plain": [
       "<Figure size 432x288 with 1 Axes>"
      ]
     },
     "metadata": {
      "needs_background": "light",
      "tags": []
     },
     "output_type": "display_data"
    }
   ],
   "source": [
    "# 0번째 label 및 이미지 확인\n",
    "# label3 -> 만두\n",
    "print(y_train[0])\n",
    "plt.imshow(X_train[0,:,:,:])"
   ]
  },
  {
   "cell_type": "code",
   "execution_count": null,
   "metadata": {
    "colab": {
     "base_uri": "https://localhost:8080/",
     "height": 302
    },
    "executionInfo": {
     "elapsed": 635,
     "status": "ok",
     "timestamp": 1602731716762,
     "user": {
      "displayName": "‍이준걸[ 대학원석사과정재학 / 산업경영공학과 ]",
      "photoUrl": "",
      "userId": "01469216314396635001"
     },
     "user_tz": -540
    },
    "id": "YvB3OQQaDL5P",
    "outputId": "367a664f-1c4c-4e85-d11d-cf25d1eefb77"
   },
   "outputs": [
    {
     "name": "stdout",
     "output_type": "stream",
     "text": [
      "4\n"
     ]
    },
    {
     "data": {
      "text/plain": [
       "<matplotlib.image.AxesImage at 0x7f6a28ff35c0>"
      ]
     },
     "execution_count": 32,
     "metadata": {
      "tags": []
     },
     "output_type": "execute_result"
    },
    {
     "data": {
      "image/png": "[encoded data removed]",
      "text/plain": [
       "<Figure size 432x288 with 1 Axes>"
      ]
     },
     "metadata": {
      "needs_background": "light",
      "tags": []
     },
     "output_type": "display_data"
    }
   ],
   "source": [
    "# 200번째 label 및 이미지 확인\n",
    "#label4 -> 새우튀김\n",
    "print(y_train[200])\n",
    "plt.imshow(X_train[200,:,:,:])"
   ]
  },
  {
   "cell_type": "code",
   "execution_count": null,
   "metadata": {
    "colab": {
     "base_uri": "https://localhost:8080/",
     "height": 302
    },
    "executionInfo": {
     "elapsed": 648,
     "status": "ok",
     "timestamp": 1602731723566,
     "user": {
      "displayName": "‍이준걸[ 대학원석사과정재학 / 산업경영공학과 ]",
      "photoUrl": "",
      "userId": "01469216314396635001"
     },
     "user_tz": -540
    },
    "id": "aOCUHBqmDMfJ",
    "outputId": "5b33a419-61fa-4240-c05a-f8d874c4791f"
   },
   "outputs": [
    {
     "name": "stdout",
     "output_type": "stream",
     "text": [
      "5\n"
     ]
    },
    {
     "data": {
      "text/plain": [
       "<matplotlib.image.AxesImage at 0x7f6a28f68a90>"
      ]
     },
     "execution_count": 33,
     "metadata": {
      "tags": []
     },
     "output_type": "execute_result"
    },
    {
     "data": {
      "image/png": "[encoded data removed]",
      "text/plain": [
       "<Figure size 432x288 with 1 Axes>"
      ]
     },
     "metadata": {
      "needs_background": "light",
      "tags": []
     },
     "output_type": "display_data"
    }
   ],
   "source": [
    "# 400번째 label 및 이미지 확인\n",
    "#label5 -> 순대\n",
    "print(y_train[400])\n",
    "plt.imshow(X_train[400,:,:,:])"
   ]
  },
  {
   "cell_type": "markdown",
   "metadata": {
    "id": "C-NyrALbDP1d"
   },
   "source": [
    "# 3. Validation set 구성\n",
    "- 제공된 전체 학습데이터 600장 중 480장만 학습에 이용\n",
    "- 나머지 120장은 Validation으로 구성하여 성능 검증에 이용"
   ]
  },
  {
   "cell_type": "code",
   "execution_count": 11,
   "metadata": {
    "colab": {
     "base_uri": "https://localhost:8080/",
     "height": 35
    },
    "executionInfo": {
     "elapsed": 1156,
     "status": "ok",
     "timestamp": 1602912932230,
     "user": {
      "displayName": "‍이준걸[ 대학원석사과정재학 / 산업경영공학과 ]",
      "photoUrl": "",
      "userId": "01469216314396635001"
     },
     "user_tz": -540
    },
    "id": "hh74tZ3hDQG-",
    "outputId": "347de783-f033-48b6-b92e-06d31d5cd829"
   },
   "outputs": [
    {
     "data": {
      "text/plain": [
       "((480, 32, 32, 3), (120, 32, 32, 3), (480,), (120,))"
      ]
     },
     "execution_count": 11,
     "metadata": {
      "tags": []
     },
     "output_type": "execute_result"
    }
   ],
   "source": [
    "from sklearn.model_selection import train_test_split\n",
    "X_train, X_vld, y_train, y_vld = train_test_split(X_train, y_train, random_state=42, test_size = .2)\n",
    "X_train.shape, X_vld.shape, y_train.shape, y_vld.shape"
   ]
  },
  {
   "cell_type": "markdown",
   "metadata": {
    "id": "hMAZ2xSXDSGV"
   },
   "source": [
    "# 4. Modeling\n",
    "- Label 전처리 -> one-hot encoding\n",
    "- Basic CNN 구성\n",
    "- input layer -> Conv1 -> Maxpool1 -> Conv2 -> Maxpool2 -> Conv3 -> flatten -> Dense1 -> ouput layer\n",
    "- activate function : Relu"
   ]
  },
  {
   "cell_type": "code",
   "execution_count": 14,
   "metadata": {
    "executionInfo": {
     "elapsed": 834,
     "status": "ok",
     "timestamp": 1602913023449,
     "user": {
      "displayName": "‍이준걸[ 대학원석사과정재학 / 산업경영공학과 ]",
      "photoUrl": "",
      "userId": "01469216314396635001"
     },
     "user_tz": -540
    },
    "id": "8C5UU1jODSzH"
   },
   "outputs": [],
   "source": [
    "from keras.models import Sequential\n",
    "from keras.layers import Dense, Conv2D, MaxPooling2D, Dropout, Flatten\n",
    "from keras.callbacks import ModelCheckpoint, EarlyStopping\n",
    "from keras.utils import np_utils"
   ]
  },
  {
   "cell_type": "code",
   "execution_count": 13,
   "metadata": {
    "executionInfo": {
     "elapsed": 995,
     "status": "ok",
     "timestamp": 1602913021949,
     "user": {
      "displayName": "‍이준걸[ 대학원석사과정재학 / 산업경영공학과 ]",
      "photoUrl": "",
      "userId": "01469216314396635001"
     },
     "user_tz": -540
    },
    "id": "jrP-GmB9DTmv"
   },
   "outputs": [],
   "source": [
    "# 해당 부분은 label의 순서를 0부터 시작하게 하기 위해서 1을 빼줍니다.\n",
    "# 본 데이터의 label은 3 4 5 으로 구성돼 있으므로 3을 빼면 -> 0 1 2로 바뀌게 됩니다.\n",
    "y_train = y_train-3\n",
    "y_vld = y_vld-3"
   ]
  },
  {
   "cell_type": "code",
   "execution_count": 16,
   "metadata": {
    "colab": {
     "base_uri": "https://localhost:8080/",
     "height": 144
    },
    "executionInfo": {
     "elapsed": 1014,
     "status": "ok",
     "timestamp": 1602913088268,
     "user": {
      "displayName": "‍이준걸[ 대학원석사과정재학 / 산업경영공학과 ]",
      "photoUrl": "",
      "userId": "01469216314396635001"
     },
     "user_tz": -540
    },
    "id": "ayRGEKAuEKCc",
    "outputId": "63602ce9-3563-468d-c1c2-1f048201b430"
   },
   "outputs": [
    {
     "data": {
      "text/plain": [
       "array([[1., 0., 0.],\n",
       "       [1., 0., 0.],\n",
       "       [0., 1., 0.],\n",
       "       ...,\n",
       "       [0., 1., 0.],\n",
       "       [0., 0., 1.],\n",
       "       [1., 0., 0.]], dtype=float32)"
      ]
     },
     "execution_count": 16,
     "metadata": {
      "tags": []
     },
     "output_type": "execute_result"
    }
   ],
   "source": [
    "y_train"
   ]
  },
  {
   "cell_type": "code",
   "execution_count": 15,
   "metadata": {
    "executionInfo": {
     "elapsed": 993,
     "status": "ok",
     "timestamp": 1602913068200,
     "user": {
      "displayName": "‍이준걸[ 대학원석사과정재학 / 산업경영공학과 ]",
      "photoUrl": "",
      "userId": "01469216314396635001"
     },
     "user_tz": -540
    },
    "id": "OHx7X7FaDVEL"
   },
   "outputs": [],
   "source": [
    "# 바꿔진 0 1 2 class를 one hot encoding을 실시합니다.\n",
    "# ex) 0 -> [1, 0, 0] / 1-> [0, 1, 0] / 2 -> [0,0,1]\n",
    "y_train = np_utils.to_categorical(y_train, 3)\n",
    "y_vld= np_utils.to_categorical(y_vld, 3)"
   ]
  },
  {
   "cell_type": "code",
   "execution_count": 17,
   "metadata": {
    "colab": {
     "base_uri": "https://localhost:8080/",
     "height": 488
    },
    "executionInfo": {
     "elapsed": 1007,
     "status": "ok",
     "timestamp": 1602913164265,
     "user": {
      "displayName": "‍이준걸[ 대학원석사과정재학 / 산업경영공학과 ]",
      "photoUrl": "",
      "userId": "01469216314396635001"
     },
     "user_tz": -540
    },
    "id": "IuejRN81DVp6",
    "outputId": "302feb84-d4df-4d29-b8a0-38808799042b"
   },
   "outputs": [
    {
     "name": "stdout",
     "output_type": "stream",
     "text": [
      "Model: \"sequential\"\n",
      "_________________________________________________________________\n",
      "Layer (type)                 Output Shape              Param #   \n",
      "=================================================================\n",
      "conv2d (Conv2D)              (None, 30, 30, 32)        896       \n",
      "_________________________________________________________________\n",
      "max_pooling2d (MaxPooling2D) (None, 15, 15, 32)        0         \n",
      "_________________________________________________________________\n",
      "conv2d_1 (Conv2D)            (None, 13, 13, 64)        18496     \n",
      "_________________________________________________________________\n",
      "max_pooling2d_1 (MaxPooling2 (None, 6, 6, 64)          0         \n",
      "_________________________________________________________________\n",
      "conv2d_2 (Conv2D)            (None, 4, 4, 64)          36928     \n",
      "_________________________________________________________________\n",
      "flatten (Flatten)            (None, 1024)              0         \n",
      "_________________________________________________________________\n",
      "dense (Dense)                (None, 128)               131200    \n",
      "_________________________________________________________________\n",
      "dropout (Dropout)            (None, 128)               0         \n",
      "_________________________________________________________________\n",
      "dense_1 (Dense)              (None, 3)                 387       \n",
      "=================================================================\n",
      "Total params: 187,907\n",
      "Trainable params: 187,907\n",
      "Non-trainable params: 0\n",
      "_________________________________________________________________\n"
     ]
    }
   ],
   "source": [
    "# CNN 아키텍처\n",
    "model = Sequential()\n",
    "model.add(Conv2D(32, (3, 3), activation='relu', input_shape=(32, 32, 3)))\n",
    "model.add(MaxPooling2D((2, 2)))\n",
    "model.add(Conv2D(64, (3, 3), activation='relu'))\n",
    "model.add(MaxPooling2D((2, 2)))\n",
    "model.add(Conv2D(64, (3, 3), activation='relu'))\n",
    "model.add(Flatten())\n",
    "model.add(Dense(128, activation='relu'))\n",
    "model.add(Dropout(0.5))\n",
    "model.add(Dense(3, activation='softmax'))\n",
    "model.compile(loss='categorical_crossentropy',\n",
    "              optimizer='adam',\n",
    "              metrics=['accuracy'])\n",
    "\n",
    "model.summary()          "
   ]
  },
  {
   "cell_type": "code",
   "execution_count": 18,
   "metadata": {
    "colab": {
     "base_uri": "https://localhost:8080/",
     "height": 905
    },
    "executionInfo": {
     "elapsed": 16705,
     "status": "ok",
     "timestamp": 1602913237154,
     "user": {
      "displayName": "‍이준걸[ 대학원석사과정재학 / 산업경영공학과 ]",
      "photoUrl": "",
      "userId": "01469216314396635001"
     },
     "user_tz": -540
    },
    "id": "layCV4PHDW8z",
    "outputId": "4c8d7ab9-6242-4a0b-dd86-435f5082862a"
   },
   "outputs": [
    {
     "name": "stdout",
     "output_type": "stream",
     "text": [
      "Epoch 1/100\n",
      "8/8 [==============================] - 1s 89ms/step - loss: 1.0833 - accuracy: 0.4125 - val_loss: 1.0379 - val_accuracy: 0.3083\n",
      "Epoch 2/100\n",
      "8/8 [==============================] - 1s 71ms/step - loss: 0.9403 - accuracy: 0.5542 - val_loss: 0.8582 - val_accuracy: 0.6167\n",
      "Epoch 3/100\n",
      "8/8 [==============================] - 1s 69ms/step - loss: 0.8114 - accuracy: 0.6646 - val_loss: 0.6422 - val_accuracy: 0.7583\n",
      "Epoch 4/100\n",
      "8/8 [==============================] - 1s 69ms/step - loss: 0.6862 - accuracy: 0.7458 - val_loss: 0.5530 - val_accuracy: 0.7667\n",
      "Epoch 5/100\n",
      "8/8 [==============================] - 1s 70ms/step - loss: 0.6213 - accuracy: 0.7354 - val_loss: 0.5797 - val_accuracy: 0.7667\n",
      "Epoch 6/100\n",
      "8/8 [==============================] - 1s 69ms/step - loss: 0.5820 - accuracy: 0.7479 - val_loss: 0.5147 - val_accuracy: 0.7917\n",
      "Epoch 7/100\n",
      "8/8 [==============================] - 1s 70ms/step - loss: 0.5086 - accuracy: 0.7896 - val_loss: 0.4064 - val_accuracy: 0.8333\n",
      "Epoch 8/100\n",
      "8/8 [==============================] - 1s 70ms/step - loss: 0.4967 - accuracy: 0.8042 - val_loss: 0.4773 - val_accuracy: 0.7583\n",
      "Epoch 9/100\n",
      "8/8 [==============================] - 1s 69ms/step - loss: 0.4748 - accuracy: 0.8167 - val_loss: 0.4596 - val_accuracy: 0.7917\n",
      "Epoch 10/100\n",
      "8/8 [==============================] - 1s 69ms/step - loss: 0.4686 - accuracy: 0.7958 - val_loss: 0.4124 - val_accuracy: 0.8083\n",
      "Epoch 11/100\n",
      "8/8 [==============================] - 1s 70ms/step - loss: 0.4584 - accuracy: 0.8104 - val_loss: 0.4091 - val_accuracy: 0.8083\n",
      "Epoch 12/100\n",
      "8/8 [==============================] - 1s 70ms/step - loss: 0.4144 - accuracy: 0.8417 - val_loss: 0.5280 - val_accuracy: 0.7917\n",
      "Epoch 13/100\n",
      "8/8 [==============================] - 1s 69ms/step - loss: 0.3950 - accuracy: 0.8417 - val_loss: 0.3959 - val_accuracy: 0.8083\n",
      "Epoch 14/100\n",
      "8/8 [==============================] - 1s 69ms/step - loss: 0.3508 - accuracy: 0.8625 - val_loss: 0.4901 - val_accuracy: 0.7833\n",
      "Epoch 15/100\n",
      "8/8 [==============================] - 1s 69ms/step - loss: 0.3405 - accuracy: 0.8562 - val_loss: 0.3962 - val_accuracy: 0.8083\n",
      "Epoch 16/100\n",
      "8/8 [==============================] - 1s 70ms/step - loss: 0.3647 - accuracy: 0.8604 - val_loss: 0.5254 - val_accuracy: 0.7583\n",
      "Epoch 17/100\n",
      "8/8 [==============================] - 1s 69ms/step - loss: 0.3809 - accuracy: 0.8521 - val_loss: 0.4325 - val_accuracy: 0.7833\n",
      "Epoch 18/100\n",
      "8/8 [==============================] - 1s 69ms/step - loss: 0.3326 - accuracy: 0.8729 - val_loss: 0.4470 - val_accuracy: 0.7917\n",
      "Epoch 19/100\n",
      "8/8 [==============================] - 1s 71ms/step - loss: 0.3196 - accuracy: 0.8875 - val_loss: 0.5009 - val_accuracy: 0.7750\n",
      "Epoch 20/100\n",
      "8/8 [==============================] - 1s 69ms/step - loss: 0.2949 - accuracy: 0.8875 - val_loss: 0.4495 - val_accuracy: 0.8000\n",
      "Epoch 21/100\n",
      "8/8 [==============================] - 1s 70ms/step - loss: 0.3100 - accuracy: 0.8875 - val_loss: 0.5347 - val_accuracy: 0.7667\n",
      "Epoch 22/100\n",
      "8/8 [==============================] - 1s 69ms/step - loss: 0.3084 - accuracy: 0.8917 - val_loss: 0.4815 - val_accuracy: 0.7917\n",
      "Epoch 23/100\n",
      "8/8 [==============================] - 1s 70ms/step - loss: 0.2721 - accuracy: 0.8938 - val_loss: 0.4249 - val_accuracy: 0.8167\n",
      "4/4 [==============================] - 0s 8ms/step - loss: 0.4249 - accuracy: 0.8167\n",
      "\n",
      "Accuracy: 0.8167\n"
     ]
    }
   ],
   "source": [
    "# Early Stopping -> overfitting 방지\n",
    "cb_early_stopping = EarlyStopping(monitor='val_loss', patience=10)\n",
    "\n",
    "history = model.fit(X_train, y_train,\n",
    "                    validation_data=(X_vld, y_vld),\n",
    "                    epochs=100, batch_size=64, verbose=1,\n",
    "                    callbacks=[cb_early_stopping])\n",
    "\n",
    "print('\\nAccuracy: {:.4f}'.format(model.evaluate(X_vld, y_vld)[1]))"
   ]
  },
  {
   "cell_type": "markdown",
   "metadata": {
    "id": "GBzNeMuHDw2f"
   },
   "source": [
    "# 5. Validation 성능평가\n",
    "- Validation set의 성능을 평가합니다.\n",
    "- Recall, Precision 확인\n",
    "- Confusion Matrix 확인"
   ]
  },
  {
   "cell_type": "code",
   "execution_count": null,
   "metadata": {
    "colab": {
     "base_uri": "https://localhost:8080/",
     "height": 91
    },
    "executionInfo": {
     "elapsed": 625,
     "status": "ok",
     "timestamp": 1602731791875,
     "user": {
      "displayName": "‍이준걸[ 대학원석사과정재학 / 산업경영공학과 ]",
      "photoUrl": "",
      "userId": "01469216314396635001"
     },
     "user_tz": -540
    },
    "id": "Bq0KqaXXDaUO",
    "outputId": "de41bcdc-84a7-4ecc-a4a7-6a09909e1463"
   },
   "outputs": [
    {
     "name": "stdout",
     "output_type": "stream",
     "text": [
      "WARNING:tensorflow:From <ipython-input-41-2f6219ed0c4a>:3: Sequential.predict_classes (from tensorflow.python.keras.engine.sequential) is deprecated and will be removed after 2021-01-01.\n",
      "Instructions for updating:\n",
      "Please use instead:* `np.argmax(model.predict(x), axis=-1)`,   if your model does multi-class classification   (e.g. if it uses a `softmax` last-layer activation).* `(model.predict(x) > 0.5).astype(\"int32\")`,   if your model does binary classification   (e.g. if it uses a `sigmoid` last-layer activation).\n"
     ]
    }
   ],
   "source": [
    "# validation 예측\n",
    "# pred에 3을 더하는 이유는 3번, 4번, 5번으로 바꿔주기 위해서\n",
    "pred = model.predict_classes(X_vld)\n",
    "pred += 3"
   ]
  },
  {
   "cell_type": "code",
   "execution_count": null,
   "metadata": {
    "id": "K-KHzKQsDz7d"
   },
   "outputs": [],
   "source": [
    "# y_vld.argmax(axis = 1)을 통해 one hot encoding을 원래 class로 바꿔준다.\n",
    "# 여기에 3을 더해 3부터 시작하도록 바꿈.\n",
    "y_vld = y_vld.argmax(axis = 1) + 3"
   ]
  },
  {
   "cell_type": "code",
   "execution_count": null,
   "metadata": {
    "colab": {
     "base_uri": "https://localhost:8080/",
     "height": 251
    },
    "executionInfo": {
     "elapsed": 634,
     "status": "ok",
     "timestamp": 1602731800942,
     "user": {
      "displayName": "‍이준걸[ 대학원석사과정재학 / 산업경영공학과 ]",
      "photoUrl": "",
      "userId": "01469216314396635001"
     },
     "user_tz": -540
    },
    "id": "FuCN_HlMD2b2",
    "outputId": "e223629d-7c64-4097-b4a7-da82fd40ac03"
   },
   "outputs": [
    {
     "name": "stdout",
     "output_type": "stream",
     "text": [
      "              precision    recall  f1-score   support\n",
      "\n",
      "           3       0.87      0.63      0.73        43\n",
      "           4       0.78      0.97      0.86        36\n",
      "           5       0.80      0.85      0.82        41\n",
      "\n",
      "    accuracy                           0.81       120\n",
      "   macro avg       0.81      0.82      0.81       120\n",
      "weighted avg       0.82      0.81      0.80       120\n",
      "\n",
      "[[27  7  9]\n",
      " [ 1 35  0]\n",
      " [ 3  3 35]]\n"
     ]
    }
   ],
   "source": [
    "from sklearn.metrics import classification_report, confusion_matrix, accuracy_score\n",
    "print(classification_report(y_vld, pred))\n",
    "print(confusion_matrix(y_vld, pred))\n",
    "# Logistic 성능은 0.73이였으나 CNN은 0.81이다."
   ]
  },
  {
   "cell_type": "markdown",
   "metadata": {
    "id": "w9Ipq2dPEPrD"
   },
   "source": [
    "# 6. Testset 제출 및 Submission file 만들기\n",
    "- 학습되지 않은 Validation 120장을 추가로 학습시킵니다. 이를 Fine Tuning이라 합니다.\n",
    "- Fine Tuning은 간단히 말해서 학습된 모델에 다시 업데이트(학습) 시키는 과정입니다.\n",
    "- 이를 통해 Test data을 예측합니다.\n",
    "- 제출 파일은 numpy array을 저장하여 .npy로 제출해주시기 바랍니다."
   ]
  },
  {
   "cell_type": "code",
   "execution_count": null,
   "metadata": {
    "id": "_X-8JBi6EQlw"
   },
   "outputs": [],
   "source": [
    "# 다시 one hot encoding 해주기\n",
    "y_vld -= 3\n",
    "y_vld= np_utils.to_categorical(y_vld, 3)"
   ]
  },
  {
   "cell_type": "code",
   "execution_count": null,
   "metadata": {
    "colab": {
     "base_uri": "https://localhost:8080/",
     "height": 395
    },
    "executionInfo": {
     "elapsed": 2020,
     "status": "ok",
     "timestamp": 1602731813231,
     "user": {
      "displayName": "‍이준걸[ 대학원석사과정재학 / 산업경영공학과 ]",
      "photoUrl": "",
      "userId": "01469216314396635001"
     },
     "user_tz": -540
    },
    "id": "lA9XfdECERjW",
    "outputId": "b9905e48-7e43-418a-c66e-0dcf63135c6c"
   },
   "outputs": [
    {
     "name": "stdout",
     "output_type": "stream",
     "text": [
      "Epoch 1/10\n",
      "2/2 [==============================] - 0s 34ms/step - loss: 0.5458 - accuracy: 0.7917\n",
      "Epoch 2/10\n",
      "2/2 [==============================] - 0s 35ms/step - loss: 0.3850 - accuracy: 0.8083\n",
      "Epoch 3/10\n",
      "2/2 [==============================] - 0s 34ms/step - loss: 0.3686 - accuracy: 0.8333\n",
      "Epoch 4/10\n",
      "2/2 [==============================] - 0s 41ms/step - loss: 0.3336 - accuracy: 0.8583\n",
      "Epoch 5/10\n",
      "2/2 [==============================] - 0s 34ms/step - loss: 0.3353 - accuracy: 0.8417\n",
      "Epoch 6/10\n",
      "2/2 [==============================] - 0s 38ms/step - loss: 0.3006 - accuracy: 0.8417\n",
      "Epoch 7/10\n",
      "2/2 [==============================] - 0s 36ms/step - loss: 0.2371 - accuracy: 0.9167\n",
      "Epoch 8/10\n",
      "2/2 [==============================] - 0s 34ms/step - loss: 0.2664 - accuracy: 0.9083\n",
      "Epoch 9/10\n",
      "2/2 [==============================] - 0s 34ms/step - loss: 0.2294 - accuracy: 0.9167\n",
      "Epoch 10/10\n",
      "2/2 [==============================] - 0s 34ms/step - loss: 0.2016 - accuracy: 0.9250\n"
     ]
    },
    {
     "data": {
      "text/plain": [
       "<tensorflow.python.keras.callbacks.History at 0x7f69ef09d748>"
      ]
     },
     "execution_count": 45,
     "metadata": {
      "tags": []
     },
     "output_type": "execute_result"
    }
   ],
   "source": [
    "model.fit(X_vld, y_vld, epochs=10, batch_size=64, verbose=1)"
   ]
  },
  {
   "cell_type": "code",
   "execution_count": null,
   "metadata": {
    "id": "jYBOHZ1KETCT"
   },
   "outputs": [],
   "source": [
    "X_test = np.load(\"./X_test.npy\") #Train X data loading"
   ]
  },
  {
   "cell_type": "code",
   "execution_count": null,
   "metadata": {
    "id": "rL5Wq-LREXkU"
   },
   "outputs": [],
   "source": [
    "final_pred = model.predict_classes(X_test)\n",
    "final_pred+=3"
   ]
  },
  {
   "cell_type": "code",
   "execution_count": null,
   "metadata": {
    "id": "qd4ZjUDnEeiU"
   },
   "outputs": [],
   "source": [
    "# final_pred를 npy로 저장합니다.\n",
    "np.save(\"./submissin_file.npy\", final_pred)"
   ]
  }
 ],
 "metadata": {
  "colab": {
   "authorship_tag": "ABX9TyM4PfhbNcIg7O+FUk+9/ZSD",
   "collapsed_sections": [],
   "name": "2_camp_exam_code.ipynb",
   "provenance": []
  },
  "kernelspec": {
   "display_name": "Python 3",
   "language": "python",
   "name": "python3"
  },
  "language_info": {
   "codemirror_mode": {
    "name": "ipython",
    "version": 3
   },
   "file_extension": ".py",
   "mimetype": "text/x-python",
   "name": "python",
   "nbconvert_exporter": "python",
   "pygments_lexer": "ipython3",
   "version": "3.8.3"
  }
 },
 "nbformat": 4,
 "nbformat_minor": 1
}
