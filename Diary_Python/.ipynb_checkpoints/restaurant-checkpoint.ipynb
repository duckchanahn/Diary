{
 "cells": [
  {
   "cell_type": "code",
   "execution_count": null,
   "metadata": {},
   "outputs": [],
   "source": [
    "pip install PyMySQL"
   ]
  },
  {
   "cell_type": "code",
   "execution_count": 7,
   "metadata": {},
   "outputs": [],
   "source": [
    "import pandas as pd\n",
    "import numpy as np\n",
    "\n",
    "import pymysql\n",
    "import pymysql.cursors"
   ]
  },
  {
   "cell_type": "code",
   "execution_count": 13,
   "metadata": {},
   "outputs": [],
   "source": [
    "keyword_except_condition = np.array(['까페', '감성주점', '키즈카페', '정종/대포집/소주방', \n",
    "                           '전통찻집', '출장조리', '라이브카페'])\n",
    "\n",
    "keyword_except_name = np.array(['공차', '이디야', '투썸', '탐앤탐스', '이삭토스트', \n",
    "                           '한솥', '까페', '카페', '커피', 'COFFEE', '랑데자뷰', '빽다방', \n",
    "                           '감성커피', '아마스빈' ,'쥬씨' ,'차얌'])\n"
   ]
  },
  {
   "cell_type": "code",
   "execution_count": 36,
   "metadata": {},
   "outputs": [],
   "source": [
    "restaurant = \"-gu_pre.csv\"\n",
    "address_list = ['Seodaemun']\n",
    "\n",
    "# Connect to the database\n",
    "connection = pymysql.connect(host='db-sang-diary.cdjhmqsvlizr.us-east-2.rds.amazonaws.com',\n",
    "                             user='root',\n",
    "                             password='akslzj19!',\n",
    "                             db='myLunch',\n",
    "                             charset='utf8mb4',\n",
    "                             cursorclass=pymysql.cursors.DictCursor)\n",
    "\n",
    "\n",
    "for i in address_list:\n",
    "    fileName = i + restaurant\n",
    "    \n",
    "    temp = pd.read_csv(fileName, encoding=\"cp949\")\n",
    "    \n",
    "    data_res = {'상세영업상태명': temp['상세영업상태명'],\n",
    "            '소재지면적': temp['소재지면적'],\n",
    "            '지번주소' : temp['지번주소'],\n",
    "            '사업장명' : temp['사업장명'],\n",
    "            '업태구분명' : temp['업태구분명']\n",
    "           }\n",
    "\n",
    "    data_res = pd.DataFrame(data_res)\n",
    "\n",
    "    data_res = PretreatmentData(data_res)\n",
    "    \n",
    "    insertResData(i, data_res)\n",
    "# 상세영업상태명 / 전화번호 / 소재지면적 / 지번주소 / 사업장명 / 업태구분명"
   ]
  },
  {
   "cell_type": "code",
   "execution_count": 21,
   "metadata": {},
   "outputs": [
    {
     "name": "stdout",
     "output_type": "stream",
     "text": [
      "      소재지면적                              지번주소        사업장명 업태구분명\n",
      "0     66.25          서울특별시 서대문구 홍제동 139-22번지           진경    한식\n",
      "1     39.67          서울특별시 서대문구 홍은동 48-162번지       테리맘스키친   중국식\n",
      "2     62.50         서울특별시 서대문구 홍제동 266-152번지          만당회    한식\n",
      "3     49.09  서울특별시 서대문구 남가좌동 295-5번지 좌원상가 2층          이가네    한식\n",
      "4     20.40          서울특별시 서대문구 홍제동 104-20번지        고마생고기    분식\n",
      "...     ...                               ...         ...   ...\n",
      "3461  57.06               서울특별시 서대문구 영천동 70-1        군산김치    한식\n",
      "3462  20.00             서울특별시 서대문구 대현동 104-46        하루식당    한식\n",
      "3463  17.44      서울특별시 서대문구 창천동 18-29 VERTIGO    푸드센터 신촌점    한식\n",
      "3464  50.89             서울특별시 서대문구 북가좌동 298-8    면부심 북가좌점   경양식\n",
      "3465  20.00             서울특별시 서대문구 홍제동 317-10  솥밥세끼&김치찜세끼    한식\n",
      "\n",
      "[3466 rows x 4 columns]\n"
     ]
    }
   ],
   "source": [
    "#data_res.to_excel('temp.xlsx')\n",
    "print(data_res)"
   ]
  },
  {
   "cell_type": "code",
   "execution_count": 35,
   "metadata": {},
   "outputs": [],
   "source": [
    "def PretreatmentData(data_res):\n",
    "    \n",
    "    for i in range (len(data_res)-1, -1, -1):\n",
    "        #폐업 제외\n",
    "        if data_res['상세영업상태명'][i] == \"폐업\":\n",
    "            data_res = data_res.drop(data_res.index[i])\n",
    "        # 업태 구분명 제외\n",
    "        data_res = data_res.reset_index(drop=True)\n",
    "        for j in range (0, len(keyword_except_condition)):\n",
    "            data_res = data_res.reset_index(drop=True)\n",
    "            if data_res['업태구분명'][i] == keyword_except_condition[j]:\n",
    "            #if data_res['업태구분명'][i] == '까페':\n",
    "                data_res = data_res.drop(data_res.index[i])\n",
    "        # 사업장명 기준 제외\n",
    "        data_res = data_res.reset_index(drop=True)\n",
    "        for j in range (0, len(keyword_except_name)):\n",
    "            data_res = data_res.reset_index(drop=True)\n",
    "            if data_res['사업장명'][i].find(keyword_except_name[j]) != -1:\n",
    "            #if data_res['업태구분명'][i] == '까페':\n",
    "                data_res = data_res.drop(data_res.index[i])\n",
    "\n",
    "    data_res.drop(['상세영업상태명'], axis = 1, inplace = True)\n",
    "    \n",
    "    return data_res"
   ]
  },
  {
   "cell_type": "code",
   "execution_count": null,
   "metadata": {},
   "outputs": [],
   "source": [
    "temp = pd.read_csv(restaurant, encoding=\"cp949\")\n",
    "\n",
    "data_res = {'상세영업상태명': temp['상세영업상태명'],\n",
    "            '전화번호': temp['전화번호'],\n",
    "            '소재지면적': temp['소재지면적'],\n",
    "            '지번주소' : temp['지번주소'],\n",
    "            '사업장명' : temp['사업장명'],\n",
    "            '업태구분명' : temp['업태구분명']\n",
    "           }\n",
    "\n",
    "data_res = pd.DataFrame(data_res)\n",
    "\n",
    "for i in range (len(data_res)-1, -1, -1):\n",
    "    if data_res['상세영업상태명'][i] == \"폐업\":\n",
    "        data_res = data_res.drop(data_res.index[i])\n",
    "\n",
    "\n",
    "for i in range (len(data_res)-1, -1, -1):\n",
    "    data_res = data_res.reset_index(drop=True)\n",
    "    for j in range (0, len(keyword_except)):\n",
    "        data_res = data_res.reset_index(drop=True)\n",
    "        if data_res['업태구분명'][i] == keyword_except[j]:\n",
    "        #if data_res['업태구분명'][i] == '까페':\n",
    "            data_res = data_res.drop(data_res.index[i])\n",
    "            \n",
    "for i in range (len(data_res)-1, -1, -1):\n",
    "    data_res = data_res.reset_index(drop=True)\n",
    "    for j in range (0, len(keyword_except)):\n",
    "        data_res = data_res.reset_index(drop=True)\n",
    "        if data_res['사업장명'][i].find(keyword_except[j]) != -1:\n",
    "        #if data_res['업태구분명'][i] == '까페':\n",
    "            data_res = data_res.drop(data_res.index[i])\n",
    "            \n",
    "data_res.drop(['상세영업상태명'], axis = 1, inplace = True)"
   ]
  },
  {
   "cell_type": "code",
   "execution_count": 200,
   "metadata": {},
   "outputs": [
    {
     "name": "stdout",
     "output_type": "stream",
     "text": [
      "['뷔페식' '외국음식전문점(인도태국등)' '중국식' '경양식' '회집' '분식' '호프/통닭' '식육(숯불구이)' '횟집' '한식'\n",
      " '일식' '기타' '통닭(치킨)' '김밥(도시락)' '탕류(보신용)' '패밀리레스트랑' '패스트푸드' '냉면집']\n"
     ]
    }
   ],
   "source": [
    "# 데이터 중복제거를 통한 데이터 종류 확인\n",
    "set_temp = set(data_res['업태구분명'])\n",
    "list_genre = list(set_temp)\n",
    "data_temp = np.array(list_genre)\n",
    "\n",
    "print(data_temp)"
   ]
  },
  {
   "cell_type": "code",
   "execution_count": 34,
   "metadata": {},
   "outputs": [],
   "source": [
    "def insertResData(address, data_res):\n",
    "\n",
    "    data_res = data_res.dropna(axis=0)\n",
    "    data_res = data_res.reset_index(drop=True)\n",
    "\n",
    "    tableName = \"restaurant_\" + address\n",
    "\n",
    "    \n",
    "    try:\n",
    "        with connection.cursor() as cursor:\n",
    "\n",
    "            sql =   \"Create Table \"+tableName +\" (id int AUTO_INCREMENT, address varchar(30), restaurantName varchar(20), restaurantCondition varchar(10), primary key(id)); \"\n",
    "\n",
    "            cursor.execute(sql)\n",
    "            connection.commit()\n",
    "\n",
    "            \n",
    "            for i in range(0, len(data_res)):\n",
    "                # Create a new record\n",
    "                sql = \"INSERT INTO \"+\" \"+ tableName +\" \"+ \" (address, restaurantName, restaurantCondition) VALUES (%s, %s, %s);\"\n",
    "                cursor.execute(sql, (data_res['지번주소'][i], data_res['사업장명'][i], data_res['업태구분명'][i]))\n",
    "                connection.commit()\n",
    "            \n",
    "    finally:\n",
    "        connection.close()"
   ]
  },
  {
   "cell_type": "code",
   "execution_count": null,
   "metadata": {},
   "outputs": [],
   "source": []
  }
 ],
 "metadata": {
  "kernelspec": {
   "display_name": "Python 3",
   "language": "python",
   "name": "python3"
  },
  "language_info": {
   "codemirror_mode": {
    "name": "ipython",
    "version": 3
   },
   "file_extension": ".py",
   "mimetype": "text/x-python",
   "name": "python",
   "nbconvert_exporter": "python",
   "pygments_lexer": "ipython3",
   "version": "3.8.3"
  }
 },
 "nbformat": 4,
 "nbformat_minor": 4
}
