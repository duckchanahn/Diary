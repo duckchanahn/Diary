{
 "cells": [
  {
   "cell_type": "code",
   "execution_count": 4,
   "metadata": {},
   "outputs": [],
   "source": [
    "restaurant = \"Seodaemun-gu_pre.csv\"\n",
    "# 상세영업상태명 / 전화번호 / 소재지면적 / 지번주소 / 사업장명 / 업태구분명"
   ]
  },
  {
   "cell_type": "code",
   "execution_count": 5,
   "metadata": {},
   "outputs": [],
   "source": [
    "import pandas as pd\n",
    "import numpy as np"
   ]
  },
  {
   "cell_type": "code",
   "execution_count": 11,
   "metadata": {},
   "outputs": [],
   "source": [
    "temp = pd.read_csv(restaurant, encoding=\"cp949\")"
   ]
  },
  {
   "cell_type": "code",
   "execution_count": 195,
   "metadata": {},
   "outputs": [],
   "source": [
    "data_res = {'상세영업상태명': temp['상세영업상태명'],\n",
    "            '전화번호': temp['전화번호'],\n",
    "            '소재지면적': temp['소재지면적'],\n",
    "            '지번주소' : temp['지번주소'],\n",
    "            '사업장명' : temp['사업장명'],\n",
    "            '업태구분명' : temp['업태구분명']\n",
    "           }\n",
    "data_res = pd.DataFrame(data_res)"
   ]
  },
  {
   "cell_type": "code",
   "execution_count": 196,
   "metadata": {},
   "outputs": [],
   "source": [
    "for i in range (len(data_res)-1, -1, -1):\n",
    "    if data_res['상세영업상태명'][i] == \"폐업\":\n",
    "        data_res = data_res.drop(data_res.index[i])"
   ]
  },
  {
   "cell_type": "code",
   "execution_count": 198,
   "metadata": {},
   "outputs": [],
   "source": [
    "keyword_except = np.array(['까페', '감성주점', '키즈카페', '정종/대포집/소주방', '전통찻집', '출장조리', '라이브카페'])\n",
    "\n",
    "#data_res = data_res.reset_index(drop=True)\n",
    "\n",
    "\n",
    "for i in range (len(data_res)-1, -1, -1):\n",
    "    data_res = data_res.reset_index(drop=True)\n",
    "    for j in range (0, len(keyword_except)):\n",
    "        data_res = data_res.reset_index(drop=True)\n",
    "        if data_res['업태구분명'][i] == keyword_except[j]:\n",
    "        #if data_res['업태구분명'][i] == '까페':\n",
    "            data_res = data_res.drop(data_res.index[i])"
   ]
  },
  {
   "cell_type": "code",
   "execution_count": 202,
   "metadata": {},
   "outputs": [],
   "source": [
    "keyword_except = np.array(['공차', '이디야', '투썸', '탐앤탐스', '이삭토스트', '한솥', '까페', '커피', 'COFFEE' ,\n",
    "                           '랑데자뷰', '빽다방' ,'감성커피', '아마스빈' ,'쥬씨' ,'차얌'])\n",
    "\n",
    "\n",
    "for i in range (len(data_res)-1, -1, -1):\n",
    "    data_res = data_res.reset_index(drop=True)\n",
    "    for j in range (0, len(keyword_except)):\n",
    "        data_res = data_res.reset_index(drop=True)\n",
    "        if data_res['사업장명'][i].find(keyword_except[j]) != -1:\n",
    "        #if data_res['업태구분명'][i] == '까페':\n",
    "            data_res = data_res.drop(data_res.index[i])"
   ]
  },
  {
   "cell_type": "code",
   "execution_count": 208,
   "metadata": {},
   "outputs": [
    {
     "name": "stderr",
     "output_type": "stream",
     "text": [
      "<ipython-input-208-3cf7d7022684>:2: SettingWithCopyWarning: \n",
      "A value is trying to be set on a copy of a slice from a DataFrame\n",
      "\n",
      "See the caveats in the documentation: https://pandas.pydata.org/pandas-docs/stable/user_guide/indexing.html#returning-a-view-versus-a-copy\n",
      "  data_res['전화번호'][i] = str(data_res['전화번호'][i]).replace(' ','')\n"
     ]
    }
   ],
   "source": [
    "for i in range (len(data_res)-1, -1, -1):\n",
    "    data_res['전화번호'][i] = str(data_res['전화번호'][i]).replace(' ','')"
   ]
  },
  {
   "cell_type": "code",
   "execution_count": 200,
   "metadata": {},
   "outputs": [
    {
     "name": "stdout",
     "output_type": "stream",
     "text": [
      "['뷔페식' '외국음식전문점(인도태국등)' '중국식' '경양식' '회집' '분식' '호프/통닭' '식육(숯불구이)' '횟집' '한식'\n",
      " '일식' '기타' '통닭(치킨)' '김밥(도시락)' '탕류(보신용)' '패밀리레스트랑' '패스트푸드' '냉면집']\n"
     ]
    }
   ],
   "source": [
    "# 데이터 중복제거를 통한 데이터 종류 확인\n",
    "set_temp = set(data_res['업태구분명'])\n",
    "list_genre = list(set_temp)\n",
    "data_temp = np.array(list_genre)\n",
    "\n",
    "print(data_temp)"
   ]
  },
  {
   "cell_type": "code",
   "execution_count": 206,
   "metadata": {},
   "outputs": [],
   "source": [
    "data_res.drop(['상세영업상태명'], axis = 1, inplace = True)"
   ]
  },
  {
   "cell_type": "code",
   "execution_count": 209,
   "metadata": {},
   "outputs": [],
   "source": [
    "data_res.to_excel('temp.xlsx')"
   ]
  }
 ],
 "metadata": {
  "kernelspec": {
   "display_name": "Python 3",
   "language": "python",
   "name": "python3"
  },
  "language_info": {
   "codemirror_mode": {
    "name": "ipython",
    "version": 3
   },
   "file_extension": ".py",
   "mimetype": "text/x-python",
   "name": "python",
   "nbconvert_exporter": "python",
   "pygments_lexer": "ipython3",
   "version": "3.8.3"
  }
 },
 "nbformat": 4,
 "nbformat_minor": 4
}
